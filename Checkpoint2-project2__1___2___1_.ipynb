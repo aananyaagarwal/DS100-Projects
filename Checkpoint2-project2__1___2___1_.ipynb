{
 "cells": [
  {
   "cell_type": "markdown",
   "metadata": {},
   "source": [
    "# Project 2: Cardiovascular Disease: Causes, Treatment, and Prevention"
   ]
  },
  {
   "cell_type": "markdown",
   "metadata": {},
   "source": [
    "In this project, you will investigate the major causes of death in the world: cardiovascular disease! "
   ]
  },
  {
   "cell_type": "markdown",
   "metadata": {},
   "source": [
    "## Logistics\n",
    "\n",
    "\n",
    "**Deadline.** This project is due at 11:59pm on Friday, April 21. It's **much** better to be early than late, so start working now.\n",
    "\n",
    "**Checkpoint.** For full credit, you must complete 2 checkpoints. For checkpoint 1, you must complete the questions up until the end of Part 2, pass all public autograders, and submit them by 11:59pm on Friday April 07. For checkpoint 2, you must complete the questions up until the end of Part 3, pass all public autograders, and submit them by 11:59pm on Friday April 14.\n",
    "\n",
    "**Partners.** You may work with one (or 2) other partners. Your partner(s) must be enrolled in the same lab as you are. Only one of you is required to submit the project. On [gradescope](https://gradescope.com), the person who submits should also designate their partner(s) so that both of you receive credit.\n",
    "\n",
    "**Rules.** Don't share your code with anybody but your partner(s). You are welcome to discuss questions with other students, but don't share the answers. The experience of solving the problems in this project will prepare you for exams (and life). If someone asks you for the answer, resist! Instead, you can demonstrate how you would solve a similar problem.\n",
    "\n",
    "**Support.** You are not alone! Come to office hours, post on Piazza, and talk to your classmates. If you want to ask about the details of your solution to a problem, make a private Piazza post and the staff will respond. If you're ever feeling overwhelmed or don't know how to make progress, email your TA or CAs for help. You can find contact information for the staff on the [piazza staff page](https://piazza.com/bu/spring2023/ds100/staff).\n",
    "\n",
    "**Tests.** Passing the tests for a question **does not** mean that you answered the question correctly. Tests usually only check that your syntax is correct or tables have the right column names. However, more tests will be applied to verify the correctness of your submission in order to assign your final score, so be careful and check your work!\n",
    "\n",
    "**Advice.** Develop your answers incrementally. To perform a complicated table manipulation, break it up into steps, perform each step on a different line, give a new name to each result, and check that each intermediate result is what you expect. You can add any additional names or functions you want to the provided cells. \n",
    "\n",
    "All of the concepts necessary for this project are found in the textbook. If you are stuck on a particular problem, reading through the relevant textbook section often will help clarify the concept.\n",
    "\n",
    "To get started, load `datascience`, `numpy`, and `plots`."
   ]
  },
  {
   "cell_type": "code",
   "execution_count": 2,
   "metadata": {},
   "outputs": [],
   "source": [
    "# Initialize Otter\n",
    "import otter\n",
    "grader = otter.Notebook(\"project2.ipynb\")\n",
    "\n",
    "from datascience import *\n",
    "import numpy as np\n",
    "\n",
    "%matplotlib inline\n",
    "import matplotlib.pyplot as plots\n",
    "plots.style.use('fivethirtyeight')\n",
    "np.set_printoptions(legacy='1.13')\n"
   ]
  },
  {
   "cell_type": "markdown",
   "metadata": {},
   "source": [
    "In the following analysis, we will investigate the world's most dangerous killer: Cardiovascular Disease. Your investigation will take you across decades of medical research, and you'll look at multiple causes and effects across four different studies."
   ]
  },
  {
   "cell_type": "markdown",
   "metadata": {},
   "source": [
    "Here is a roadmap for this project:\n",
    "\n",
    "* In Part 1, we'll investigate the major causes of death in the world during the past century (from 1900 to 2015).\n",
    "* In Part 2, we'll look at data from the Framingham Heart Study, an observational study into cardiovascular health.\n",
    "* In Part 3, we'll examine the effect that hormone replacement therapy has on the risk of coronary heart disease for post-menopausal women using data from the Nurses' Heart Study and Heart and Estrogen-Progestin Replacement Study.\n",
    "* In Part 4, we move in a slightly different direction and look at Covid & Diet"
   ]
  },
  {
   "cell_type": "markdown",
   "metadata": {},
   "source": [
    "## Part 1: Causes of Death "
   ]
  },
  {
   "cell_type": "markdown",
   "metadata": {},
   "source": [
    "In order to get a better idea of how we can most effectively prevent deaths, we need to first figure out what the major causes of death are. Run the following cell to read in and view the `causes_of_death` table, which documents the death rate for major causes of deaths over the last century (1900 until 2015)."
   ]
  },
  {
   "cell_type": "code",
   "execution_count": 3,
   "metadata": {
    "scrolled": true
   },
   "outputs": [
    {
     "data": {
      "text/html": [
       "<table border=\"1\" class=\"dataframe\">\n",
       "    <thead>\n",
       "        <tr>\n",
       "            <th>Year</th> <th>Cause</th> <th>Age Adjusted Death Rate</th>\n",
       "        </tr>\n",
       "    </thead>\n",
       "    <tbody>\n",
       "        <tr>\n",
       "            <td>2015</td> <td>Heart Disease          </td> <td>168.5                  </td>\n",
       "        </tr>\n",
       "        <tr>\n",
       "            <td>2015</td> <td>Cancer                 </td> <td>158.5                  </td>\n",
       "        </tr>\n",
       "        <tr>\n",
       "            <td>2015</td> <td>Stroke                 </td> <td>37.6                   </td>\n",
       "        </tr>\n",
       "        <tr>\n",
       "            <td>2015</td> <td>Accidents              </td> <td>43.2                   </td>\n",
       "        </tr>\n",
       "        <tr>\n",
       "            <td>2015</td> <td>Influenza and Pneumonia</td> <td>15.2                   </td>\n",
       "        </tr>\n",
       "    </tbody>\n",
       "</table>\n",
       "<p>... (575 rows omitted)</p>"
      ],
      "text/plain": [
       "<IPython.core.display.HTML object>"
      ]
     },
     "metadata": {},
     "output_type": "display_data"
    }
   ],
   "source": [
    "causes_of_death = Table.read_table('causes_of_death.csv')\n",
    "causes_of_death.show(5)"
   ]
  },
  {
   "cell_type": "markdown",
   "metadata": {},
   "source": [
    "Each entry in the column **Age Adjusted Death Rate** is a death rate for a specific **Year** and **Cause** of death. \n",
    "\n",
    "If we look at unadjusted data, the age distributions of each sample will influence death rates. In an older population, we would expect death rates to be higher for all causes since old age is associated with higher risk of death. To compare death rates without worrying about differences in the demographics of our populations, we adjust the data for age.\n",
    "\n",
    "The **Age Adjusted** specification in the death rate column tells us that the values shown are the death rates that would have existed if the population under study in a specific year had the same age distribution as the \"standard\" population, a baseline. \n",
    "\n",
    "You aren't responsible for knowing how to do this adjustment, but should understand why we adjust for age and what the consequences of working with unadjusted data would be. "
   ]
  },
  {
   "cell_type": "markdown",
   "metadata": {
    "deletable": false,
    "editable": false
   },
   "source": [
    "**Question 1:** What are all the different causes of death in this dataset? Assign an array of all the unique causes of death to `all_unique_causes`.\n",
    "\n",
    "\n",
    "<!--\n",
    "BEGIN QUESTION\n",
    "name: q1_1\n",
    "manual: false\n",
    "-->"
   ]
  },
  {
   "cell_type": "code",
   "execution_count": 4,
   "metadata": {
    "manual_problem_id": "part_1_unique_causes"
   },
   "outputs": [
    {
     "data": {
      "text/plain": [
       "['Accidents', 'Cancer', 'Heart Disease', 'Influenza and Pneumonia', 'Stroke']"
      ]
     },
     "execution_count": 4,
     "metadata": {},
     "output_type": "execute_result"
    }
   ],
   "source": [
    "all_unique_causes = causes_of_death.group('Cause').column('Cause')\n",
    "sorted(all_unique_causes)"
   ]
  },
  {
   "cell_type": "code",
   "execution_count": 5,
   "metadata": {
    "deletable": false,
    "editable": false
   },
   "outputs": [
    {
     "data": {
      "text/html": [
       "<p><strong><pre style='display: inline;'>q1_1</pre></strong> passed!</p>"
      ],
      "text/plain": [
       "q1_1 results: All test cases passed!"
      ]
     },
     "execution_count": 5,
     "metadata": {},
     "output_type": "execute_result"
    }
   ],
   "source": [
    "grader.check(\"q1_1\")"
   ]
  },
  {
   "cell_type": "markdown",
   "metadata": {
    "deletable": false,
    "editable": false
   },
   "source": [
    "**Question 2:** We would like to plot the death rate for each disease over time. To do so, we must create a table with one column for each cause and one row for each year.\n",
    "\n",
    "Create a table called `causes_for_plotting`. It should have one column called `Year`, and then a column with age-adjusted death rates for each of the causes you found in Question 1. There should be as many of these columns in `causes_for_plotting` as there are causes in Question 1.\n",
    "\n",
    "*Hint*: Use `pivot`, and think about how the `first` function might be useful in getting the **Age Adjusted Death Rate** for each cause and year combination.\n",
    "\n",
    "<!--\n",
    "BEGIN QUESTION\n",
    "name: q1_2\n",
    "manual: false\n",
    "-->"
   ]
  },
  {
   "cell_type": "code",
   "execution_count": 6,
   "metadata": {},
   "outputs": [],
   "source": [
    "# This function may be useful for Question 2.\n",
    "def first(x):\n",
    "    return x.item(0)"
   ]
  },
  {
   "cell_type": "code",
   "execution_count": 7,
   "metadata": {
    "for_assignment_type": "student",
    "manual_problem_id": "part_1_plot_causes"
   },
   "outputs": [
    {
     "data": {
      "text/html": [
       "<table border=\"1\" class=\"dataframe\">\n",
       "    <thead>\n",
       "        <tr>\n",
       "            <th>Year</th> <th>Accidents</th> <th>Cancer</th> <th>Heart Disease</th> <th>Influenza and Pneumonia</th> <th>Stroke</th>\n",
       "        </tr>\n",
       "    </thead>\n",
       "    <tbody>\n",
       "        <tr>\n",
       "            <td>1900</td> <td>90.3     </td> <td>114.8 </td> <td>265.4        </td> <td>297.5                  </td> <td>244.2 </td>\n",
       "        </tr>\n",
       "        <tr>\n",
       "            <td>1901</td> <td>109.3    </td> <td>118.1 </td> <td>272.6        </td> <td>312.9                  </td> <td>243.6 </td>\n",
       "        </tr>\n",
       "        <tr>\n",
       "            <td>1902</td> <td>93.6     </td> <td>119.7 </td> <td>285.2        </td> <td>219.3                  </td> <td>237.8 </td>\n",
       "        </tr>\n",
       "        <tr>\n",
       "            <td>1903</td> <td>106.9    </td> <td>125.2 </td> <td>304.5        </td> <td>251.1                  </td> <td>244.6 </td>\n",
       "        </tr>\n",
       "        <tr>\n",
       "            <td>1904</td> <td>112.8    </td> <td>127.9 </td> <td>331.5        </td> <td>291.2                  </td> <td>255.2 </td>\n",
       "        </tr>\n",
       "    </tbody>\n",
       "</table>\n",
       "<p>... (111 rows omitted)</p>"
      ],
      "text/plain": [
       "<IPython.core.display.HTML object>"
      ]
     },
     "metadata": {},
     "output_type": "display_data"
    }
   ],
   "source": [
    "value1 = causes_of_death.apply(first, 'Age Adjusted Death Rate')\n",
    "causes_for_plotting = causes_of_death.pivot('Cause', 'Year', \"Age Adjusted Death Rate\", np.sum)\n",
    "causes_for_plotting.show(5)"
   ]
  },
  {
   "cell_type": "markdown",
   "metadata": {},
   "source": [
    "Let's take a look at how age-adjusted death rates have changed across different causes over time. Run the cell below to compare Heart Disease (a chronic disease) and Influenza and Pneumonia (infectious diseases)."
   ]
  },
  {
   "cell_type": "code",
   "execution_count": 8,
   "metadata": {},
   "outputs": [
    {
     "data": {
      "image/png": "[encoded data removed]",
      "text/plain": [
       "<Figure size 600x600 with 1 Axes>"
      ]
     },
     "metadata": {},
     "output_type": "display_data"
    }
   ],
   "source": [
    "causes_for_plotting.select('Year', \"Heart Disease\", \"Influenza and Pneumonia\").plot('Year')"
   ]
  },
  {
   "cell_type": "markdown",
   "metadata": {
    "deletable": false,
    "editable": false
   },
   "source": [
    "**Question 3:** Beginning in 1900 and continuing until 1950, we observe that death rates for Influenza and Pneumonia decrease while death rates for Heart Disease increase. What might have caused this shift?\n",
    "\n",
    "Assign `disease_trend_explanation` to an array of integers that correspond to possible explanations for these trends.\n",
    "\n",
    "1. People are living longer, allowing more time for chronic conditions to develop. \n",
    "2. A cure has not been discovered for influenza, so people are still dying at high rates from the flu.\n",
    "3. Improvements in sanitation, hygiene, and nutrition have reduced the transmission of viruses and bacteria that cause infectious diseases.\n",
    "4. People are more active, putting them at lower risk for conditions like heart disease and diabetes.\n",
    "5. Widespread adoption of vaccinations has reduced rates of infectious disease.\n",
    "6. The medical community has became more aware of chronic conditions, leading to more people being diagnosed with heart disease.\n",
    "\n",
    "*Hint:* Consider what contributes to the development of these diseases. What decreases the transmission of infections? Why do we see more lifestyle-related conditions like heart disease?\n",
    "\n",
    "<!--\n",
    "BEGIN QUESTION\n",
    "name: q1_3\n",
    "manual: false\n",
    "-->"
   ]
  },
  {
   "cell_type": "code",
   "execution_count": 9,
   "metadata": {},
   "outputs": [
    {
     "data": {
      "text/plain": [
       "array([1, 2, 3])"
      ]
     },
     "execution_count": 9,
     "metadata": {},
     "output_type": "execute_result"
    }
   ],
   "source": [
    "disease_trend_explanation = make_array(1, 2, 3)\n",
    "disease_trend_explanation"
   ]
  },
  {
   "cell_type": "code",
   "execution_count": 10,
   "metadata": {
    "deletable": false,
    "editable": false
   },
   "outputs": [
    {
     "data": {
      "text/html": [
       "<p><strong><pre style='display: inline;'>q1_3</pre></strong> passed!</p>"
      ],
      "text/plain": [
       "q1_3 results: All test cases passed!"
      ]
     },
     "execution_count": 10,
     "metadata": {},
     "output_type": "execute_result"
    }
   ],
   "source": [
    "grader.check(\"q1_3\")"
   ]
  },
  {
   "cell_type": "markdown",
   "metadata": {},
   "source": [
    "This phenomenon is known as the epidemiological transition - in developed countries, the severity of infectious disease has decreased, but chronic disease has become more widespread. Coronary heart disease (CHD) is one of the most deadly chronic diseases that has emerged in the past century, and more healthcare resources have been invested to studying it.\n",
    "\n",
    "Run the cell below to see what a plot of the data would have looked like had you been living in 1950. CHD was the leading cause of death and had killed millions of people without warning. It had become twice as lethal in just a few decades and people didn't understand why this was happening."
   ]
  },
  {
   "cell_type": "code",
   "execution_count": 11,
   "metadata": {},
   "outputs": [
    {
     "data": {
      "image/png": "[encoded data removed]",
      "text/plain": [
       "<Figure size 600x600 with 1 Axes>"
      ]
     },
     "metadata": {},
     "output_type": "display_data"
    }
   ],
   "source": [
    "# Do not change this line\n",
    "causes_for_plotting.where('Year', are.below_or_equal_to(1950)).plot('Year')"
   ]
  },
  {
   "cell_type": "markdown",
   "metadata": {},
   "source": [
    "The view from 2016 looks a lot less scary, however, since we know it eventually went down. The decline in CHD deaths is one of the greatest public health triumphs of the last half century. That decline represents many millions of saved lives, and it was not inevitable. The Framingham Heart Study, in particular, was the first to discover the associations between heart disease and risk factors like smoking, high cholesterol, high blood pressure, obesity, and lack of exercise."
   ]
  },
  {
   "cell_type": "code",
   "execution_count": 12,
   "metadata": {
    "for_assignment_type": "solution",
    "scrolled": true
   },
   "outputs": [
    {
     "data": {
      "image/png": "[encoded data removed]",
      "text/plain": [
       "<Figure size 600x600 with 1 Axes>"
      ]
     },
     "metadata": {},
     "output_type": "display_data"
    }
   ],
   "source": [
    "# Do not change this line\n",
    "causes_for_plotting.plot('Year')"
   ]
  },
  {
   "cell_type": "markdown",
   "metadata": {},
   "source": [
    "Let's examine the graph above. You'll see that in the 1960s, the death rate due to heart disease steadily declines. Up until then, the effects of smoking, blood pressure, and diet on the cardiovascular system were unknown to researchers. Once these factors started to be noticed, doctors were able recommend a lifestyle change for at-risk patients to prevent heart attacks and heart problems.\n",
    "\n",
    "Note, however, that the death rate for heart disease is still higher than the death rates of all other causes. Even though the death rate is starkly decreasing, there's still a lot we don't understand about the causes (both direct and indirect) of heart disease."
   ]
  },
  {
   "cell_type": "markdown",
   "metadata": {},
   "source": [
    "## Part 2: The Framingham Heart Study"
   ]
  },
  {
   "cell_type": "markdown",
   "metadata": {},
   "source": [
    "The [Framingham Heart Study](https://en.wikipedia.org/wiki/Framingham_Heart_Study) is an observational study of cardiovascular health. The initial study followed over 5,000 volunteers for several decades, and followup studies even looked at their descendants. In this section, we'll investigate some of the study's key findings about cholesterol and heart disease.\n",
    "\n",
    "Run the cell below to examine data for 3842 subjects from the first wave of the study, collected in 1956."
   ]
  },
  {
   "cell_type": "code",
   "execution_count": 13,
   "metadata": {},
   "outputs": [
    {
     "data": {
      "text/html": [
       "<table border=\"1\" class=\"dataframe\">\n",
       "    <thead>\n",
       "        <tr>\n",
       "            <th>AGE</th> <th>SYSBP</th> <th>DIABP</th> <th>TOTCHOL</th> <th>CURSMOKE</th> <th>DIABETES</th> <th>GLUCOSE</th> <th>DEATH</th> <th>ANYCHD</th>\n",
       "        </tr>\n",
       "    </thead>\n",
       "    <tbody>\n",
       "        <tr>\n",
       "            <td>39  </td> <td>106  </td> <td>70   </td> <td>195    </td> <td>0       </td> <td>0       </td> <td>77     </td> <td>0    </td> <td>1     </td>\n",
       "        </tr>\n",
       "        <tr>\n",
       "            <td>46  </td> <td>121  </td> <td>81   </td> <td>250    </td> <td>0       </td> <td>0       </td> <td>76     </td> <td>0    </td> <td>0     </td>\n",
       "        </tr>\n",
       "        <tr>\n",
       "            <td>48  </td> <td>127.5</td> <td>80   </td> <td>245    </td> <td>1       </td> <td>0       </td> <td>70     </td> <td>0    </td> <td>0     </td>\n",
       "        </tr>\n",
       "        <tr>\n",
       "            <td>61  </td> <td>150  </td> <td>95   </td> <td>225    </td> <td>1       </td> <td>0       </td> <td>103    </td> <td>1    </td> <td>0     </td>\n",
       "        </tr>\n",
       "        <tr>\n",
       "            <td>46  </td> <td>130  </td> <td>84   </td> <td>285    </td> <td>1       </td> <td>0       </td> <td>85     </td> <td>0    </td> <td>0     </td>\n",
       "        </tr>\n",
       "        <tr>\n",
       "            <td>43  </td> <td>180  </td> <td>110  </td> <td>228    </td> <td>0       </td> <td>0       </td> <td>99     </td> <td>0    </td> <td>1     </td>\n",
       "        </tr>\n",
       "        <tr>\n",
       "            <td>63  </td> <td>138  </td> <td>71   </td> <td>205    </td> <td>0       </td> <td>0       </td> <td>85     </td> <td>0    </td> <td>1     </td>\n",
       "        </tr>\n",
       "        <tr>\n",
       "            <td>45  </td> <td>100  </td> <td>71   </td> <td>313    </td> <td>1       </td> <td>0       </td> <td>78     </td> <td>0    </td> <td>0     </td>\n",
       "        </tr>\n",
       "        <tr>\n",
       "            <td>52  </td> <td>141.5</td> <td>89   </td> <td>260    </td> <td>0       </td> <td>0       </td> <td>79     </td> <td>0    </td> <td>0     </td>\n",
       "        </tr>\n",
       "        <tr>\n",
       "            <td>43  </td> <td>162  </td> <td>107  </td> <td>225    </td> <td>1       </td> <td>0       </td> <td>88     </td> <td>0    </td> <td>0     </td>\n",
       "        </tr>\n",
       "    </tbody>\n",
       "</table>\n",
       "<p>... (3832 rows omitted)</p>"
      ],
      "text/plain": [
       "AGE  | SYSBP | DIABP | TOTCHOL | CURSMOKE | DIABETES | GLUCOSE | DEATH | ANYCHD\n",
       "39   | 106   | 70    | 195     | 0        | 0        | 77      | 0     | 1\n",
       "46   | 121   | 81    | 250     | 0        | 0        | 76      | 0     | 0\n",
       "48   | 127.5 | 80    | 245     | 1        | 0        | 70      | 0     | 0\n",
       "61   | 150   | 95    | 225     | 1        | 0        | 103     | 1     | 0\n",
       "46   | 130   | 84    | 285     | 1        | 0        | 85      | 0     | 0\n",
       "43   | 180   | 110   | 228     | 0        | 0        | 99      | 0     | 1\n",
       "63   | 138   | 71    | 205     | 0        | 0        | 85      | 0     | 1\n",
       "45   | 100   | 71    | 313     | 1        | 0        | 78      | 0     | 0\n",
       "52   | 141.5 | 89    | 260     | 0        | 0        | 79      | 0     | 0\n",
       "43   | 162   | 107   | 225     | 1        | 0        | 88      | 0     | 0\n",
       "... (3832 rows omitted)"
      ]
     },
     "execution_count": 13,
     "metadata": {},
     "output_type": "execute_result"
    }
   ],
   "source": [
    "framingham = Table.read_table('framingham.csv')\n",
    "framingham"
   ]
  },
  {
   "cell_type": "markdown",
   "metadata": {},
   "source": [
    "Each row contains data from one subject. The first seven columns describe the subject at the time of their initial medical exam at the start of the study. The last column, `ANYCHD`, tells us whether the subject developed some form of heart disease at any point after the start of the study.\n",
    "\n",
    "You may have noticed that the table contains fewer rows than subjects in the original study - we are excluding subjects who already had heart disease or had missing data."
   ]
  },
  {
   "cell_type": "markdown",
   "metadata": {},
   "source": [
    "### Section 1: Diabetes and the Population"
   ]
  },
  {
   "cell_type": "markdown",
   "metadata": {},
   "source": [
    "Before we begin our investigation into cholesterol, we'll first look at some limitations of this dataset. In particular, we will investigate ways in which this is or isn't a representative sample of the population by examining the number of subjects with diabetes.\n",
    "\n",
    "[According to the CDC](https://www.cdc.gov/diabetes/statistics/slides/long_term_trends.pdf), the prevalence of diagnosed diabetes (i.e., the percentage of the population who have it) in the U.S. around this time was 0.93%. We are going to conduct a hypothesis test with the following null and alternative hypotheses:\n",
    "\n",
    "**Null Hypothesis**: The probability that a participant within the Framingham Study has diabetes is equivalent to the prevalence of diagnosed diabetes within the population. (i.e., any difference is due to chance).\n",
    "\n",
    "**Alternative Hypothesis**: The probability that a participant within the Framingham Study has diabetes is different than the prevalence of diagnosed diabetes within the population.\n",
    "\n",
    "We are going to use the absolute distance between the observed prevalence and the true population prevalence as our test statistic. The column `DIABETES` in the `framingham` table contains a 1 for subjects with diabetes and a `0` for those without."
   ]
  },
  {
   "cell_type": "markdown",
   "metadata": {
    "deletable": false,
    "editable": false
   },
   "source": [
    "**Question 1**: What is the observed value of the statistic in the data from the Framingham Study? You should convert prevalence values to proportions before calculating the statistic!\n",
    "\n",
    "<!--\n",
    "BEGIN QUESTION\n",
    "name: q2_1_1\n",
    "manual: false\n",
    "-->"
   ]
  },
  {
   "cell_type": "code",
   "execution_count": 14,
   "metadata": {
    "for_assignment_type": "solution"
   },
   "outputs": [
    {
     "data": {
      "text/plain": [
       "0.01802951587714732"
      ]
     },
     "execution_count": 14,
     "metadata": {},
     "output_type": "execute_result"
    }
   ],
   "source": [
    "observed_diabetes_distance = abs(np.count_nonzero(framingham.column(\"DIABETES\"))/len(framingham.column(\"DIABETES\")) - 0.0093)\n",
    "observed_diabetes_distance"
   ]
  },
  {
   "cell_type": "code",
   "execution_count": 15,
   "metadata": {
    "deletable": false,
    "editable": false
   },
   "outputs": [
    {
     "data": {
      "text/html": [
       "<p><strong><pre style='display: inline;'>q2_1_1</pre></strong> passed!</p>"
      ],
      "text/plain": [
       "q2_1_1 results: All test cases passed!"
      ]
     },
     "execution_count": 15,
     "metadata": {},
     "output_type": "execute_result"
    }
   ],
   "source": [
    "grader.check(\"q2_1_1\")"
   ]
  },
  {
   "cell_type": "markdown",
   "metadata": {
    "deletable": false,
    "editable": false
   },
   "source": [
    "**Question 2**: Define the function `diabetes_statistic` which should return exactly one simulated statistic of the absolute distance between the observed prevalence and the true population prevalence under the null hypothesis. Make sure that your simulated sample is the same size as your original sample.\n",
    "\n",
    "*Hint:* The array `diabetes_proportions` contains the proportions of the population without and with diabetes, respectively.\n",
    "\n",
    "<!--\n",
    "BEGIN QUESTION\n",
    "name: q2_1_2\n",
    "manual: false\n",
    "-->"
   ]
  },
  {
   "cell_type": "code",
   "execution_count": 16,
   "metadata": {},
   "outputs": [],
   "source": [
    "diabetes_proportions = make_array(0.9907, 0.0093)\n",
    "\n",
    "def diabetes_statistic():\n",
    "    return abs((sample_proportions(3842, diabetes_proportions).item(1) - 0.0093)) "
   ]
  },
  {
   "cell_type": "code",
   "execution_count": null,
   "metadata": {},
   "outputs": [],
   "source": []
  },
  {
   "cell_type": "code",
   "execution_count": 17,
   "metadata": {
    "deletable": false,
    "editable": false
   },
   "outputs": [
    {
     "data": {
      "text/html": [
       "<p><strong><pre style='display: inline;'>q2_1_2</pre></strong> passed!</p>"
      ],
      "text/plain": [
       "q2_1_2 results: All test cases passed!"
      ]
     },
     "execution_count": 17,
     "metadata": {},
     "output_type": "execute_result"
    }
   ],
   "source": [
    "grader.check(\"q2_1_2\")"
   ]
  },
  {
   "cell_type": "markdown",
   "metadata": {
    "deletable": false,
    "editable": false
   },
   "source": [
    "**Question 3**:  Complete the following code to simulate 5000 values of the statistic under the null hypothesis.\n",
    "\n",
    "<!--\n",
    "BEGIN QUESTION\n",
    "name: q2_1_3\n",
    "manual: false\n",
    "-->"
   ]
  },
  {
   "cell_type": "code",
   "execution_count": 18,
   "metadata": {
    "for_assignment_type": "solution"
   },
   "outputs": [
    {
     "data": {
      "text/plain": [
       "array([ 0.000971  ,  0.00227241,  0.00071072, ...,  0.00189209,\n",
       "        0.00019016,  0.00111124])"
      ]
     },
     "execution_count": 18,
     "metadata": {},
     "output_type": "execute_result"
    }
   ],
   "source": [
    "diabetes_simulated_stats = make_array()\n",
    "\n",
    "for i in np.arange(5000):\n",
    "    y = diabetes_statistic()\n",
    "    diabetes_simulated_stats = np.append(y, diabetes_simulated_stats )\n",
    "    \n",
    "diabetes_simulated_stats"
   ]
  },
  {
   "cell_type": "code",
   "execution_count": 19,
   "metadata": {
    "deletable": false,
    "editable": false
   },
   "outputs": [
    {
     "data": {
      "text/html": [
       "<p><strong><pre style='display: inline;'>q2_1_3</pre></strong> passed!</p>"
      ],
      "text/plain": [
       "q2_1_3 results: All test cases passed!"
      ]
     },
     "execution_count": 19,
     "metadata": {},
     "output_type": "execute_result"
    }
   ],
   "source": [
    "grader.check(\"q2_1_3\")"
   ]
  },
  {
   "cell_type": "markdown",
   "metadata": {
    "deletable": false,
    "editable": false
   },
   "source": [
    "<!-- BEGIN QUESTION -->\n",
    "\n",
    "**Question 4**: Run the following cell to generate a histogram of the simulated values of your statistic, along with the observed value.\n",
    "\n",
    "*If you're not sure if your histogram is correct, think about how we're generating the sample statistics under the null, and what those statistics will look like*\n",
    "\n",
    "*Make sure to run the cell that draws the histogram, since it will be graded.*\n",
    "\n",
    "<!--\n",
    "BEGIN QUESTION\n",
    "name: q2_1_4\n",
    "manual: true\n",
    "-->"
   ]
  },
  {
   "cell_type": "code",
   "execution_count": 20,
   "metadata": {
    "export_pdf": true
   },
   "outputs": [
    {
     "name": "stderr",
     "output_type": "stream",
     "text": [
      "/share/pkg.7/python3/3.8.10/install/lib/python3.8/site-packages/datascience/tables.py:5206: UserWarning: FixedFormatter should only be used together with FixedLocator\n",
      "  axis.set_xticklabels(ticks, rotation='vertical')\n"
     ]
    },
    {
     "data": {
      "image/png": "[encoded data removed]",
      "text/plain": [
       "<Figure size 600x400 with 1 Axes>"
      ]
     },
     "metadata": {},
     "output_type": "display_data"
    }
   ],
   "source": [
    "Table().with_column('Simulated distance to true prevalence', diabetes_simulated_stats).hist()\n",
    "plots.scatter(observed_diabetes_distance, 0, color='red', s=30);"
   ]
  },
  {
   "cell_type": "markdown",
   "metadata": {
    "deletable": false,
    "editable": false
   },
   "source": [
    "<!-- END QUESTION -->\n",
    "\n",
    "<!-- BEGIN QUESTION -->\n",
    "\n",
    "**Question 5**: Based on the historgram above, should you reject the null hypothesis?\n",
    "\n",
    "<!--\n",
    "BEGIN QUESTION\n",
    "name: q2_1_5\n",
    "manual: true\n",
    "-->\n"
   ]
  },
  {
   "cell_type": "markdown",
   "metadata": {},
   "source": [
    "No?"
   ]
  },
  {
   "cell_type": "markdown",
   "metadata": {
    "deletable": false,
    "editable": false
   },
   "source": [
    "<!-- END QUESTION -->\n",
    "\n",
    "**Question 6**: Why might there be a difference between the population and the sample from the Framingham Study? Assuming that all these statements are true - what are possible explanations for the higher diabetes prevalence in the Framingham population?\n",
    "\n",
    "Assign the name `framingham_diabetes_explanations` to an array of the following explanations that **are consistent** with the trends we observe in the data and our hypothesis test results. \n",
    "\n",
    "1. Diabetes was under-diagnosed in the population (i.e., there were a lot of people in the population who had diabetes but weren't diagnosed). By contrast, the Framingham participants were less likely to go undiagnosed because they had regular medical examinations as part of the study.\n",
    "2. The relatively wealthy population in Framingham ate a luxurious diet high in sugar (high-sugar diets are a known cause of diabetes).\n",
    "3. The Framingham Study subjects were older on average than the general population, and therefore more likely to have diabetes.\n",
    "\n",
    "<!--\n",
    "BEGIN QUESTION\n",
    "name: q2_1_6\n",
    "manual: false\n",
    "-->"
   ]
  },
  {
   "cell_type": "code",
   "execution_count": 21,
   "metadata": {
    "manual_problem_id": "part_2_explanations"
   },
   "outputs": [
    {
     "data": {
      "text/plain": [
       "array([1])"
      ]
     },
     "execution_count": 21,
     "metadata": {},
     "output_type": "execute_result"
    }
   ],
   "source": [
    "framingham_diabetes_explanations = make_array(1)\n",
    "framingham_diabetes_explanations"
   ]
  },
  {
   "cell_type": "code",
   "execution_count": 22,
   "metadata": {
    "deletable": false,
    "editable": false
   },
   "outputs": [
    {
     "data": {
      "text/html": [
       "<p><strong><pre style='display: inline;'>q2_1_6</pre></strong> passed!</p>"
      ],
      "text/plain": [
       "q2_1_6 results: All test cases passed!"
      ]
     },
     "execution_count": 22,
     "metadata": {},
     "output_type": "execute_result"
    }
   ],
   "source": [
    "grader.check(\"q2_1_6\")"
   ]
  },
  {
   "cell_type": "markdown",
   "metadata": {},
   "source": [
    "In real-world studies, getting a truly representative random sample of the population is often incredibly difficult. Even just to accurately represent all Americans, a truly random sample would need to examine people across geographical, socioeconomic, community, and class lines (just to name a few). For a study like this, scientists would also need to make sure the medical exams were standardized and consistent across the different people being examined. In other words, there's a tradeoff between taking a more representative random sample and the cost of collecting more information from each person in the sample.\n",
    "\n",
    "The Framingham study collected high-quality medical data from its subjects, even if the subjects may not be a perfect representation of the population of all Americans. This is a common issue that data scientists face: while the available data aren't perfect, they're the best we have. The Framingham study is generally considered the best in its class, so we'll continue working with it while keeping its limitations in mind.\n",
    "\n",
    "(For more on representation in medical study samples, you can read these recent articles from [NPR](https://www.npr.org/sections/health-shots/2015/12/16/459666750/clinical-trials-still-dont-reflect-the-diversity-of-america) and [Scientific American](https://www.scientificamerican.com/article/clinical-trials-have-far-too-little-racial-and-ethnic-diversity/))."
   ]
  },
  {
   "cell_type": "markdown",
   "metadata": {},
   "source": [
    "### Section 2: Cholesterol and Heart Disease"
   ]
  },
  {
   "cell_type": "markdown",
   "metadata": {},
   "source": [
    "In the remainder of this question, we are going to examine one of the main findings of the Framingham study: an association between serum cholesterol (i.e., how much cholesterol is in someone's blood) and whether or not that person develops heart disease.\n",
    "\n",
    "We'll use the following null and alternative hypotheses:\n",
    "\n",
    "**Null Hypothesis:** In the population, the distribution of cholesterol levels among those who get heart disease is the same as the distribution of cholesterol levels\n",
    "among those who do not.\n",
    "\n",
    "**Alternative Hypothesis:** The cholesterol levels of people in the population who get\n",
    "heart disease are higher, on average, than the cholesterol level of people who do not."
   ]
  },
  {
   "cell_type": "markdown",
   "metadata": {
    "deletable": false,
    "editable": false
   },
   "source": [
    "**Question 1:** From the provided Null and Alternative Hypotheses, does it seem reasonable to use A/B Testing to determine which model is more consistent? Assign the variable `ab_reasonable` to `True` if it seems reasonable and `False` otherwise.\n",
    "\n",
    "<!--\n",
    "BEGIN QUESTION\n",
    "name: q2_2_1\n",
    "manual: false\n",
    "-->"
   ]
  },
  {
   "cell_type": "code",
   "execution_count": 23,
   "metadata": {
    "manual_problem_id": "part_2_reasonable_test"
   },
   "outputs": [
    {
     "data": {
      "text/plain": [
       "True"
      ]
     },
     "execution_count": 23,
     "metadata": {},
     "output_type": "execute_result"
    }
   ],
   "source": [
    "ab_reasonable = True\n",
    "ab_reasonable"
   ]
  },
  {
   "cell_type": "code",
   "execution_count": 24,
   "metadata": {
    "deletable": false,
    "editable": false
   },
   "outputs": [
    {
     "data": {
      "text/html": [
       "<p><strong><pre style='display: inline;'>q2_2_1</pre></strong> passed!</p>"
      ],
      "text/plain": [
       "q2_2_1 results: All test cases passed!"
      ]
     },
     "execution_count": 24,
     "metadata": {},
     "output_type": "execute_result"
    }
   ],
   "source": [
    "grader.check(\"q2_2_1\")"
   ]
  },
  {
   "cell_type": "markdown",
   "metadata": {
    "deletable": false,
    "editable": false
   },
   "source": [
    "<!-- BEGIN QUESTION -->\n",
    "\n",
    "**Question 2:** Now that we have a null hypothesis, we need a test statistic. Explain and justify your choice of test statistic in two sentences or less.\n",
    "\n",
    "*Hint*: Remember that larger values of the test statistic should favor the alternative over the null.\n",
    "\n",
    "<!--\n",
    "BEGIN QUESTION\n",
    "name: q2_2_2\n",
    "manual: true\n",
    "-->\n"
   ]
  },
  {
   "cell_type": "markdown",
   "metadata": {},
   "source": [
    "The test statistic should be the difference in cholesterol levels between the two groups described in our null and alternative hypothesis as in the alternative hypothesis we are trying to see if the levels are higher. "
   ]
  },
  {
   "cell_type": "markdown",
   "metadata": {
    "deletable": false,
    "editable": false
   },
   "source": [
    "<!-- END QUESTION -->\n",
    "\n",
    "**Question 3**: Write a function that computes your test statistic. It should take a table with two columns, `TOTCHOL` (total serum cholesterol) and `ANYCHD` (whether or not the person had coronary heart disease), and compute the test statistic you described above. \n",
    "\n",
    "Use the function you defined to compute the observed test statistic, and assign it to the name `framingham_observed_statistic`.\n",
    "\n",
    "<!--\n",
    "BEGIN QUESTION\n",
    "name: q2_2_3\n",
    "manual: false\n",
    "-->"
   ]
  },
  {
   "cell_type": "code",
   "execution_count": 25,
   "metadata": {
    "for_assignment_type": "solution"
   },
   "outputs": [
    {
     "data": {
      "text/plain": [
       "16.635919905689406"
      ]
     },
     "execution_count": 25,
     "metadata": {},
     "output_type": "execute_result"
    }
   ],
   "source": [
    "def compute_framingham_test_statistic(tbl):\n",
    "    p_w_hd_col = np.count_nonzero(tbl.column(\"ANYCHD\"))\n",
    "    #print(p_w_hd_col)\n",
    "    p_nd_col = len(tbl.column(\"ANYCHD\")) - p_w_hd_col\n",
    "    #print(p_nd_col)\n",
    "    p_w_hd_sum = sum(tbl.where(\"ANYCHD\", 1).column(\"TOTCHOL\"))\n",
    "    p_nd_sum = sum(tbl.where(\"ANYCHD\", 0).column(\"TOTCHOL\")) \n",
    "    total_whd =  p_w_hd_sum/p_w_hd_col\n",
    "    total_nd = p_nd_sum/  p_nd_col\n",
    "    return abs(total_whd - total_nd)\n",
    "framingham_observed_statistic = compute_framingham_test_statistic(framingham)\n",
    "framingham_observed_statistic"
   ]
  },
  {
   "cell_type": "code",
   "execution_count": 26,
   "metadata": {
    "deletable": false,
    "editable": false
   },
   "outputs": [
    {
     "data": {
      "text/html": [
       "<p><strong><pre style='display: inline;'>q2_2_3</pre></strong> passed!</p>"
      ],
      "text/plain": [
       "q2_2_3 results: All test cases passed!"
      ]
     },
     "execution_count": 26,
     "metadata": {},
     "output_type": "execute_result"
    }
   ],
   "source": [
    "grader.check(\"q2_2_3\")"
   ]
  },
  {
   "cell_type": "markdown",
   "metadata": {
    "deletable": false,
    "editable": false
   },
   "source": [
    "Now that we have defined hypotheses and a test statistic, we are ready to conduct a hypothesis test. We'll start by defining a function to simulate the test statistic under the null hypothesis, and then use that function 1000 times to understand the distribution under the null hypothesis.\n",
    "\n",
    "**Question 4**: Write a function to simulate the test statistic under the null hypothesis. \n",
    "\n",
    "The `simulate_framingham_null` function should simulate the null hypothesis once (not 1000 times) and return the value of the test statistic for that simulated sample.\n",
    "\n",
    "<!--\n",
    "BEGIN QUESTION\n",
    "name: q2_2_4\n",
    "manual: false\n",
    "-->"
   ]
  },
  {
   "cell_type": "code",
   "execution_count": 27,
   "metadata": {
    "for_assignment_type": "solution"
   },
   "outputs": [
    {
     "data": {
      "text/plain": [
       "0.54079484543865419"
      ]
     },
     "execution_count": 27,
     "metadata": {},
     "output_type": "execute_result"
    }
   ],
   "source": [
    "def simulate_framingham_null():\n",
    "    new_col = framingham.select(\"TOTCHOL\").sample(with_replacement = True).column(0)\n",
    "    framingham1 = Table().with_columns('TOTCHOL',new_col, 'ANYCHD', framingham.column('ANYCHD'))\n",
    "    return compute_framingham_test_statistic(framingham1)\n",
    "\n",
    "# Run your function once to make sure that it works.\n",
    "simulate_framingham_null()"
   ]
  },
  {
   "cell_type": "code",
   "execution_count": 28,
   "metadata": {
    "deletable": false,
    "editable": false
   },
   "outputs": [
    {
     "data": {
      "text/html": [
       "<p><strong><pre style='display: inline;'>q2_2_4</pre></strong> passed!</p>"
      ],
      "text/plain": [
       "q2_2_4 results: All test cases passed!"
      ]
     },
     "execution_count": 28,
     "metadata": {},
     "output_type": "execute_result"
    }
   ],
   "source": [
    "grader.check(\"q2_2_4\")"
   ]
  },
  {
   "cell_type": "markdown",
   "metadata": {
    "deletable": false,
    "editable": false
   },
   "source": [
    "**Question 5**: Fill in the blanks below to complete the simulation for the hypothesis test. Your simulation should compute 100 values of the test statistic under the null hypothesis and store the result in the array `framingham_simulated_stats`.\n",
    "\n",
    "*Hint*: You should use the function you wrote above in Question 4.\n",
    "\n",
    "*Note*: Warning: running should only take a couple minutes at max!  We encourage you to check your `simulate_framingham_null()` code to make sure it works correctly before running this cell. \n",
    "\n",
    "<!--\n",
    "BEGIN QUESTION\n",
    "name: q2_2_5\n",
    "manual: false\n",
    "-->"
   ]
  },
  {
   "cell_type": "code",
   "execution_count": 29,
   "metadata": {
    "for_assignment_type": "solution"
   },
   "outputs": [
    {
     "data": {
      "text/plain": [
       "array([ 0.89072182,  1.41991803,  2.07344495,  0.43416697,  0.39108695,\n",
       "        0.86231177,  4.09512942,  0.99431973,  0.23482044,  1.96893384,\n",
       "        0.34891723,  0.73193276,  0.3000437 ,  0.59590614,  3.28432188,\n",
       "        1.80230637,  1.25076947,  0.89537927,  1.48505563,  0.9244891 ,\n",
       "        0.84357524,  0.68349695,  2.17842355,  3.82499768,  3.19268193,\n",
       "        0.74910277,  0.07469933,  2.08657816,  1.55880619,  0.85399789,\n",
       "        2.62810691,  2.33728302,  2.25262272,  3.02362556,  2.00416384,\n",
       "        0.05463002,  0.20064156,  1.38240939,  1.46463861,  0.14656542,\n",
       "        2.90280681,  0.10746703,  2.14657268,  2.40455626,  3.69859667,\n",
       "        0.8030889 ,  0.46397658,  2.04041156,  1.43022309,  0.56493217,\n",
       "        1.05688035,  1.1297286 ,  1.00955519,  0.45153443,  2.80131114,\n",
       "        1.35163432,  0.35530816,  0.68945452,  3.0108916 ,  2.66511249,\n",
       "        1.5982356 ,  0.81514849,  1.1591542 ,  3.41537672,  2.12528165,\n",
       "        1.36581357,  1.06015349,  0.3033074 ,  0.82617438,  0.98783152,\n",
       "        1.9981932 ,  1.74979166,  1.06496484,  2.70942148,  1.01157903,\n",
       "        0.65868017,  0.47845636,  1.3868469 ,  0.92464808,  3.79257769,\n",
       "        1.6676452 ,  0.53814599,  0.5695889 ,  2.20062051,  2.84440278,\n",
       "        2.09199565,  3.67203697,  2.10080533,  1.00391775,  0.18818998,\n",
       "        0.2064583 ,  1.9133369 ,  1.79069467,  1.55372843,  0.59781312,\n",
       "        2.28702736,  0.09976655,  3.00223654,  2.97000311,  4.01708218,\n",
       "        2.13505534,  0.5065412 ,  1.10290975,  0.47258373,  0.03448086,\n",
       "        2.45740852,  1.42756479,  1.52553906,  0.37523229,  3.53446271,\n",
       "        1.42539141,  0.07577368,  0.86630719,  1.54198679,  0.62526859,\n",
       "        1.22798379,  3.01666042,  0.31393186,  3.04285862,  0.40658882,\n",
       "        4.57506228,  1.3149525 ,  0.72636428,  2.24018058,  2.05472148,\n",
       "        1.24815909,  1.07843487,  1.65292151,  2.15398787,  1.01265847,\n",
       "        0.79955226,  3.09481945,  1.64636143,  0.15843119,  1.38794157,\n",
       "        1.54176902,  1.76597734,  0.79997619,  0.47918155,  0.97541043,\n",
       "        0.40903006,  2.44672889,  0.52551366,  0.32674422,  1.64888906,\n",
       "        0.27484073,  0.1252969 ,  1.04313228,  3.11340863,  2.40169036,\n",
       "        0.15131942,  0.64237182,  1.83532669,  0.009945  ,  3.42071073,\n",
       "        2.62070042,  1.01534943,  2.67520413,  1.14168801,  3.93756642,\n",
       "        0.8666266 ,  0.36643423,  0.07029086,  0.90725448,  3.33038322,\n",
       "        0.58643371,  0.68736389,  1.24412083,  2.16694106,  2.01307877,\n",
       "        0.25894179,  0.17585164,  2.36062911,  2.27683191,  2.62402002,\n",
       "        0.6123517 ,  1.67674016,  0.05223813,  1.09520927,  1.56012735,\n",
       "        2.31278928,  0.44007009,  0.14796498,  0.71973815,  2.11687704,\n",
       "        0.80705094,  1.77209824,  1.90854515,  0.83519675,  0.41194751,\n",
       "        1.25155491,  0.40859234,  1.57647927,  1.49181098,  1.13808966,\n",
       "        1.11723781,  2.27352828,  0.05216627,  0.53198444,  0.57909183,\n",
       "        0.29420736,  0.0767268 ,  2.54554377,  1.70087821,  1.39852901,\n",
       "        0.45920152,  1.24694173,  0.52576119,  1.39177076,  1.01823565,\n",
       "        0.78641759,  0.57021319,  0.10669103,  2.21602075,  1.07643861,\n",
       "        3.44352399,  2.02101372,  0.33132038,  0.0067764 ,  1.15383906,\n",
       "        1.18788582,  1.23832152,  2.06503598,  0.03403297,  0.49375933,\n",
       "        1.17936651,  1.05910091,  0.30766869,  0.89299828,  5.86959268,\n",
       "        1.52706784,  0.83014875,  0.47453861,  0.4737989 ,  0.71001745,\n",
       "        0.95964143,  1.2946371 ,  1.53592978,  2.03581799,  0.53781715,\n",
       "        0.54134944,  2.87425667,  2.38773832,  0.04721554,  0.44477836,\n",
       "        0.35434125,  0.57296222,  0.11085922,  0.46861226,  0.61398137,\n",
       "        2.85411041,  1.68943347,  0.27512965,  0.97779142,  1.78148574,\n",
       "        1.47567684,  1.22074789,  0.7815939 ,  0.88306199,  0.16733451,\n",
       "        0.65851539,  1.89879615,  1.91460943,  1.9958035 ,  0.99924795,\n",
       "        1.96760832,  2.69224565,  0.06266877,  1.35087356,  2.77642395,\n",
       "        1.63693473,  0.70945124,  1.68417568,  0.86008685,  2.07546662,\n",
       "        1.29061337,  2.7815714 ,  0.26708653,  2.12642642,  0.40235312,\n",
       "        0.69122865,  0.19253892,  2.79835958,  1.8268023 ,  3.3906877 ,\n",
       "        1.20499341,  0.39738279,  0.18970932,  3.55902905,  0.34077249,\n",
       "        0.47387222,  2.70994196,  1.11756448,  0.87545224,  1.2074303 ,\n",
       "        3.68171193,  0.87255948,  0.12040715,  2.14472813,  0.50401865,\n",
       "        3.77035314,  0.18272241,  0.76000526,  0.28207881,  0.91428204,\n",
       "        0.35011136,  1.33817082,  1.99612798,  1.54394748,  0.56372062,\n",
       "        2.09336545,  0.84814195,  1.42791541,  1.92753721,  0.27393334,\n",
       "        2.25048564,  0.63011333,  1.44134915,  1.07656129,  1.15244095,\n",
       "        0.12910504,  0.313468  ,  0.54030268,  2.50785075,  0.88223154,\n",
       "        0.74710869,  1.72382068,  1.41586308,  1.16220738,  0.87666016,\n",
       "        2.27479428,  0.16389586,  0.60219472,  0.61323876,  1.56615388,\n",
       "        1.41538979,  1.4051849 ,  3.21378929,  0.36043311,  0.57835357,\n",
       "        0.00595684,  2.52973556,  0.77237916,  0.85072693,  0.6233725 ,\n",
       "        0.89640426,  2.5341992 ,  0.26768977,  2.14425919,  0.77357329,\n",
       "        1.09918219,  1.27892472,  1.90191757,  0.40348191,  2.58399537,\n",
       "        1.06792511,  0.36290266,  2.09345691,  0.91707245,  0.71653324,\n",
       "        0.54533035,  0.91764447,  1.79093422,  2.06932975,  2.6400714 ,\n",
       "        2.41379496,  0.71090597,  1.58043331,  0.62369118,  0.74231331,\n",
       "        1.28544124,  1.15081564,  1.92798945,  0.06053169,  1.14759984,\n",
       "        0.80236807,  1.33863903,  1.60826844,  1.11835862,  0.30614282,\n",
       "        0.97372123,  0.77406982,  0.82407577,  1.69323072,  3.92728241,\n",
       "        0.20472772,  2.78945118,  1.12879362,  3.46624506,  3.22825165,\n",
       "        1.01522529,  0.58460223,  1.54144672,  1.42326304,  0.63703926,\n",
       "        0.53662956,  0.28830787,  1.09580814,  1.24569461,  0.26535668,\n",
       "        0.75691867,  0.99462462,  2.29139445,  0.89922226,  0.22348676,\n",
       "        1.51936735,  2.84023749,  1.88276291,  1.53390956,  1.56325386,\n",
       "        1.49556104,  0.16075774,  1.40550358,  1.29622903,  1.26497485,\n",
       "        1.3643857 ,  2.74049708,  0.8483815 ,  4.24389798,  1.10200018,\n",
       "        1.22466927,  1.50162169,  2.32544339,  2.34136411,  0.31939508,\n",
       "        1.21556052,  2.5276326 ,  1.18484207,  0.3540429 ,  0.80372771,\n",
       "        2.61005563,  3.31809933,  0.87783977,  1.2738956 ,  0.97251404,\n",
       "        0.89082562,  0.17450943,  2.14948794,  1.81318562,  0.23271819,\n",
       "        0.86946129,  0.81661121,  1.62426901,  1.97707858,  0.60831998,\n",
       "        0.401445  ,  1.63421256,  1.26010035,  0.76463658,  0.25419142,\n",
       "        1.7773357 ,  0.5226884 ,  0.23594633,  1.38865297,  3.08494268,\n",
       "        0.64789964,  0.97892748,  3.20834422,  1.01604993,  0.73756657,\n",
       "        1.73458089,  0.71873131,  1.66938739,  0.66199832,  0.34364129,\n",
       "        1.79236645,  2.16187855,  0.28871075,  0.25424369,  1.39264186,\n",
       "        0.19702652,  0.48678839,  0.71065771,  1.13200724,  0.48238863,\n",
       "        0.72922002,  0.92779636,  1.6577256 ,  0.53664408,  0.00891203,\n",
       "        3.08372315,  0.23834112,  1.20758637,  1.37381168,  0.82084328,\n",
       "        0.02204815,  1.48212585,  1.64072109,  0.21239554,  0.58649323,\n",
       "        1.39121326,  1.34740225,  1.03137395,  2.69836655,  0.85800566,\n",
       "        2.13552864,  0.86432908,  1.14053961,  0.30662555,  2.0108328 ,\n",
       "        0.97167125,  0.36395306,  0.43375538,  1.90377373,  0.83980267,\n",
       "        2.11129767,  1.26800627,  2.64305926,  0.2106098 ,  1.40032564,\n",
       "        0.50384734,  0.01834745,  2.55377199,  0.01693264,  1.2332227 ,\n",
       "        0.24881313,  2.36919342,  0.1840472 ,  2.58876606,  1.57909836,\n",
       "        2.24799721,  2.35517605,  0.60542286,  0.53442932,  0.38578634,\n",
       "        0.88387936,  0.51515561,  1.91094212,  0.00915303,  0.47744371,\n",
       "        1.11950194,  3.42334361,  1.00537611,  0.66576145,  0.15081346,\n",
       "        0.10525372,  1.70485766,  1.23838757,  3.12528311,  1.76272162,\n",
       "        2.22244653,  2.66216165,  3.05799898,  0.12164991,  0.24268207,\n",
       "        1.17431706,  1.0096815 ,  2.91500723,  0.8543594 ,  0.21536525,\n",
       "        0.92708351,  2.37228146,  0.19645522,  0.6928184 ,  1.80861092,\n",
       "        1.64338737,  0.81525738,  1.52134111,  0.80847663,  0.03715802,\n",
       "        0.1950847 ,  4.17498853,  2.11693801,  0.92882861,  0.25104894,\n",
       "        3.39311298,  1.15509925,  2.78120481,  0.86357776,  5.15607052,\n",
       "        2.48394789,  1.64164082,  1.82933864,  1.01421482,  1.03950199,\n",
       "        1.74457308,  2.25749505,  3.10920269,  2.70546888,  0.14383816,\n",
       "        1.18451178,  0.9548054 ,  0.23260205,  1.51295682,  0.69133681,\n",
       "        2.31638182,  0.86267763,  1.0003753 ,  2.38860869,  0.89932316,\n",
       "        2.80747051,  1.01661687,  2.67894911,  0.58051389,  5.65964782,\n",
       "        1.29159553,  0.0224837 ,  0.40800362,  2.83349376,  1.17973527,\n",
       "        1.73871932,  2.0858537 ,  0.22444569,  1.94333089,  0.35968542,\n",
       "        3.36485392,  0.77541348,  0.93583584,  2.36789985,  0.89116463,\n",
       "        1.67451669,  0.04438739,  0.4767011 ,  0.88689553,  0.67707916,\n",
       "        0.05481658,  1.70465876,  1.11776265,  3.58127973,  2.50191641,\n",
       "        2.18027681,  1.35121619,  2.01402463,  1.77402263,  0.6498959 ,\n",
       "        0.09412766,  1.24648949,  1.2067523 ,  2.33652735,  1.13155281,\n",
       "        0.27820534,  0.52801225,  0.6066903 ,  0.49156199,  2.73390434,\n",
       "        4.10667433,  1.52340996,  1.86836516,  1.12811852,  1.21322381,\n",
       "        0.33618182,  0.76308893,  1.6777666 ,  0.15972621,  0.12714217,\n",
       "        0.45899028,  0.9325206 ,  0.02115673,  3.62977651,  0.76804692,\n",
       "        3.32254119,  0.88144248,  1.25420013,  1.67375956,  1.37228509,\n",
       "        1.86284822,  0.95023142,  0.35477897,  0.75895849,  1.56619598,\n",
       "        0.71045735,  1.24987369,  0.50998783,  3.43607903,  1.92129363,\n",
       "        0.45319968,  4.37587182,  2.41732362,  1.34414726,  4.06967964,\n",
       "        1.1116962 ,  1.0160042 ,  2.12389952,  0.52114366,  1.13782035,\n",
       "        0.95995212,  0.31698941,  2.18093303,  4.96092121,  0.30276732,\n",
       "        1.13157604,  0.62059807,  3.57764726,  0.82562632,  0.66316123,\n",
       "        1.88956326,  0.07858151,  0.43475932,  1.27363935,  1.16638283,\n",
       "        1.01842584,  1.7374976 ,  1.55302938,  1.80145342,  1.26285882,\n",
       "        2.56814506,  0.72604125,  3.52637894,  1.40080257,  1.49109305,\n",
       "        1.33898021,  4.38930266,  0.42888305,  1.23396241,  0.85050916,\n",
       "        0.17511411,  0.36365181,  2.29863833,  0.6406093 ,  0.8615002 ,\n",
       "        0.76857901,  2.72306864,  0.03796959,  0.11928344,  0.98337006,\n",
       "        2.80272159,  2.03531711,  2.76974846,  1.8312623 ,  0.99229516,\n",
       "        0.48813423,  0.38831542,  1.74572583,  3.57379194,  0.08751677,\n",
       "        1.6687239 ,  1.06400082,  0.48011144,  2.14435356,  2.1015189 ,\n",
       "        2.51248643,  1.7477112 ,  0.9547887 ,  0.26825453,  0.96538921,\n",
       "        2.9068908 ,  3.89106445,  0.1200333 ,  1.78834707,  1.06787865,\n",
       "        1.31092005,  1.67892806,  0.07354367,  1.14429331,  1.88958141,\n",
       "        1.00157741,  3.45726552,  1.01978838,  2.20391035,  0.97840627,\n",
       "        0.72593236,  1.89450237,  0.37528964,  2.3656742 ,  0.75785292,\n",
       "        1.92982747,  1.35767754,  0.1071861 ,  0.86663531,  1.29312285,\n",
       "        0.93794825,  1.24866359,  0.02401973,  2.40018191,  0.05192454,\n",
       "        1.3308783 ,  1.76043717,  0.67353816,  1.91543987,  0.887032  ,\n",
       "        0.81317619,  1.04715457,  0.80103602,  0.02316242,  3.71052849,\n",
       "        1.26750321,  1.61738518,  0.89040677,  3.16639445,  3.63092708,\n",
       "        0.46049365,  3.19530828,  1.66480252,  4.69397768,  1.11007306,\n",
       "        0.16356629,  0.72077766,  0.36437264,  1.06423965,  0.72454514,\n",
       "        0.05457848,  2.58110406,  3.75685262,  2.7847763 ,  1.57312264,\n",
       "        0.85031679,  0.7514119 ,  0.8543456 ,  3.1459963 ,  1.89884769,\n",
       "        1.63648539,  5.47442319,  0.00674155,  0.22883819,  1.49976408,\n",
       "        0.38705669,  0.68080963,  1.52728488,  0.44780905,  1.72837361,\n",
       "        1.03106471,  0.36238291,  1.32537443,  0.22558465,  2.8882617 ,\n",
       "        0.52599566,  2.8470843 ,  0.79145107,  1.19571842,  2.87287598,\n",
       "        2.23508322,  2.57226316,  0.13525352,  0.86424851,  1.79129355,\n",
       "        2.05753875,  1.55557588,  1.04109465,  1.62218491,  4.87969375,\n",
       "        2.27045985,  0.18166475,  0.49758416,  1.33144523,  1.13631045,\n",
       "        3.01937752,  1.36727193,  4.77246337,  0.55731807,  2.35609142,\n",
       "        0.35740315,  0.43053523,  0.05767667,  1.1166295 ,  0.75916755,\n",
       "        2.11727556,  0.28380285,  0.70964506,  0.88246093,  2.17747115,\n",
       "        2.60451765,  0.70071851,  1.26447543,  3.4665993 ,  0.51923378,\n",
       "        0.69956503,  1.14640426,  1.12961826,  0.67143954,  0.28582307,\n",
       "        2.64610374,  0.19391888,  2.16742307,  1.21441576,  0.03384423,\n",
       "        0.63169655,  0.52340633,  0.56180566,  3.40288304,  0.68611677,\n",
       "        0.33595896,  1.44625124,  1.01913506,  1.75891131,  1.87628341,\n",
       "        0.1418165 ,  0.04081445,  1.17362091,  1.21417403,  1.80652973,\n",
       "        0.52997802,  0.43292566,  3.25942815,  1.49161934,  0.69942638,\n",
       "        0.22323124,  1.06596297,  2.18347881,  0.27122714,  1.17426843,\n",
       "        2.68454299,  0.41333473,  1.63750675,  3.69008969,  2.88303948,\n",
       "        0.69577867,  3.30330813,  0.83526862,  1.14624819,  2.90220721,\n",
       "        0.13957633,  0.27353409,  0.93360221,  1.0616133 ,  0.26932815,\n",
       "        1.5282155 ,  1.31180784,  2.40161777,  1.26217428,  2.05007419,\n",
       "        1.19638699,  1.19886308,  1.90313348,  2.31233558,  2.00293196,\n",
       "        0.60270141,  0.1402115 ,  1.7565412 ,  2.15156405,  0.13513229,\n",
       "        0.12704054,  0.65292369,  0.3532052 ,  2.86554571,  0.19057388,\n",
       "        0.23620766,  0.70371943,  4.7780529 ,  2.99919206,  0.70408965,\n",
       "        0.93193043,  0.19930806,  0.52453513,  0.37098352,  0.43706699,\n",
       "        1.17105554,  1.66295072,  1.14862919,  0.89440946,  0.68063178,\n",
       "        2.69417223,  0.93617848,  0.51611454,  0.20290423,  0.35818713,\n",
       "        1.35022169,  1.58064891,  1.28296588,  0.81492201,  2.63970844,\n",
       "        0.82658815,  1.42684904,  4.71097638,  1.13055178,  0.77090556,\n",
       "        0.14913442,  1.67462848,  0.68657628,  3.99290928,  0.08878712,\n",
       "        1.43755844,  1.44578956,  0.99194818,  0.73845363,  1.98258463,\n",
       "        0.1884455 ,  0.62885314,  0.77745475,  1.05913939,  1.05388813,\n",
       "        0.37907527,  2.63396793,  1.31681301,  0.78461588,  0.40620336,\n",
       "        0.97410161,  0.392758  ,  5.4530741 ,  0.05125815,  0.4233545 ,\n",
       "        0.56096724,  1.92494062,  1.5781946 ,  1.14535895,  1.03696783,\n",
       "        1.31385492,  1.34939125,  0.34070643,  1.61674202,  2.04614773,\n",
       "        0.66490488,  1.41945635,  1.4099106 ,  0.97412339,  2.99147488,\n",
       "        0.58211162,  1.09860944,  0.64570303,  1.71384664,  0.68513969])"
      ]
     },
     "execution_count": 29,
     "metadata": {},
     "output_type": "execute_result"
    }
   ],
   "source": [
    "framingham_simulated_stats = make_array()\n",
    "\n",
    "for i in np.arange(1000):\n",
    "    y = simulate_framingham_null()\n",
    "    framingham_simulated_stats = np.append(y, framingham_simulated_stats)\n",
    "framingham_simulated_stats"
   ]
  },
  {
   "cell_type": "code",
   "execution_count": 30,
   "metadata": {
    "deletable": false,
    "editable": false
   },
   "outputs": [
    {
     "data": {
      "text/html": [
       "<p><strong><pre style='display: inline;'>q2_2_5</pre></strong> passed!</p>"
      ],
      "text/plain": [
       "q2_2_5 results: All test cases passed!"
      ]
     },
     "execution_count": 30,
     "metadata": {},
     "output_type": "execute_result"
    }
   ],
   "source": [
    "grader.check(\"q2_2_5\")"
   ]
  },
  {
   "cell_type": "markdown",
   "metadata": {
    "deletable": false,
    "editable": false
   },
   "source": [
    "<!-- BEGIN QUESTION -->\n",
    "\n",
    "**Question 6:** The following line will plot the histogram of the simulated test statistics, as well as a point for the observed test statistic. Make sure to run it, as it will be graded. \n",
    "\n",
    "<!--\n",
    "BEGIN QUESTION\n",
    "name: q2_2_6\n",
    "manual: true\n",
    "-->\n"
   ]
  },
  {
   "cell_type": "code",
   "execution_count": 31,
   "metadata": {
    "export_pdf": true,
    "manual_problem_id": "disease_q_4_1_6"
   },
   "outputs": [
    {
     "data": {
      "image/png": "[encoded data removed]",
      "text/plain": [
       "<Figure size 600x400 with 1 Axes>"
      ]
     },
     "metadata": {},
     "output_type": "display_data"
    }
   ],
   "source": [
    "Table().with_column('Simulated statistics', framingham_simulated_stats).hist()\n",
    "plots.scatter(framingham_observed_statistic, 0, color='red', s=30);"
   ]
  },
  {
   "cell_type": "markdown",
   "metadata": {
    "deletable": false,
    "editable": false
   },
   "source": [
    "<!-- END QUESTION -->\n",
    "\n",
    "**Question 7**: Compute the p-value for this hypothesis test, and assign it to the name `framingham_p_value`.\n",
    "\n",
    "*Hint*: One of the key findings of the Framingham study was a strong association between cholesterol levels and heart disease. If your p-value doesn't match up with this finding, you may want to take another look at your test statistic and/or your simulation.\n",
    "\n",
    "<!--\n",
    "BEGIN QUESTION\n",
    "name: q2_2_7\n",
    "manual: false\n",
    "-->"
   ]
  },
  {
   "cell_type": "code",
   "execution_count": 32,
   "metadata": {
    "for_assignment_type": "solution"
   },
   "outputs": [
    {
     "data": {
      "text/plain": [
       "0.0"
      ]
     },
     "execution_count": 32,
     "metadata": {},
     "output_type": "execute_result"
    }
   ],
   "source": [
    "framingham_p_value = np.count_nonzero(framingham_observed_statistic < framingham_simulated_stats)/len(framingham.column('ANYCHD'))\n",
    "framingham_p_value\n"
   ]
  },
  {
   "cell_type": "code",
   "execution_count": 33,
   "metadata": {
    "deletable": false,
    "editable": false
   },
   "outputs": [
    {
     "data": {
      "text/html": [
       "<p><strong><pre style='display: inline;'>q2_2_7</pre></strong> passed!</p>"
      ],
      "text/plain": [
       "q2_2_7 results: All test cases passed!"
      ]
     },
     "execution_count": 33,
     "metadata": {},
     "output_type": "execute_result"
    }
   ],
   "source": [
    "grader.check(\"q2_2_7\")"
   ]
  },
  {
   "cell_type": "markdown",
   "metadata": {
    "deletable": false,
    "editable": false
   },
   "source": [
    "<!-- BEGIN QUESTION -->\n",
    "\n",
    "**Question 8**: Despite the Framingham Heart Study's well-deserved reputation as a well-conducted and rigorous study, it has some major limitations. Give one specific reason why it can't be used to say that high cholesterol *causes* heart disease.\n",
    "\n",
    "<!--\n",
    "BEGIN QUESTION\n",
    "name: q2_2_9\n",
    "manual: true\n",
    "-->\n"
   ]
  },
  {
   "cell_type": "markdown",
   "metadata": {},
   "source": [
    "?\n",
    "The distance between the observed and prevalence data is not zero."
   ]
  },
  {
   "cell_type": "markdown",
   "metadata": {},
   "source": [
    "<!-- END QUESTION -->\n",
    "\n",
    "\n",
    "\n",
    "Similar studies from the 1950s found positive associations between diets high in saturated fat, high cholesterol, and incidence of heart disease. In 1962, the U.S. Surgeon General said:\n",
    "\n",
    "*\"Although there is evidence that diet and dietary habits may be implicated in the development of coronary heart disease and may be significant in its prevention or control, at present our only research evidence is associative and not conclusive.\"*"
   ]
  },
  {
   "cell_type": "markdown",
   "metadata": {},
   "source": [
    "# Checkpoint 1 (Due Nov. 15)\n",
    "#### Congratulations, you have reached the first checkpoint! \n",
    "\n",
    "To get full credit for this checkpoint, you must pass all the public autograder tests above this cell."
   ]
  },
  {
   "cell_type": "markdown",
   "metadata": {},
   "source": [
    "## Part 3: Hormone Replacement Therapy for Cardiovascular Health"
   ]
  },
  {
   "cell_type": "markdown",
   "metadata": {},
   "source": [
    "### Section 1: The Nurses' Health Study"
   ]
  },
  {
   "cell_type": "markdown",
   "metadata": {},
   "source": [
    "The Nurses' Health Study (NHS) is another very large observational study which has brought many insights into women's health. It began in 1976 by Dr. Frank Speizer, with questionnaires that were mailed to 121,964 female registered nurses in the United States asking about their medical history, cholesterol and blood pressure, current medications, and so on (one of the benefits of studying nurses is their ability to give reliably accurate answers to these questions). \n",
    "\n",
    "The study's initial focus was on investigating the long-term health effects of oral contraceptives, whose use had become much more widespread in the U.S. during the 1960s, but the focus soon expanded to investigating a wide variety of questions on women's health. The NHS continues to this day, tracking its third generation of nurses in the US.\n",
    "\n",
    "**One of the most consequential early findings from the NHS was about hormone replacement therapy (HRT)**: supplementary estrogen and progesterone for post-menopausal women to relieve side effects of declining hormone levels due to menopause. The NHS found that HRT in postmenopausal women was negatively associated with heart attack risk. In a landmark 1985 paper in the *New England Journal of Medicine* (NEJM), Speizer and his coauthors wrote that\n",
    "> As compared with the risk in women who had never used postmenopausal hormones, the age-adjusted relative risk of coronary disease in those who had ever used them was 0.5 (95 per cent confidence limits, 0.3 and 0.8; P = 0.007)... These data support the hypothesis that the postmenopausal use of estrogen reduces the risk of severe coronary heart disease. [(Stampfer et al., 1985)](https://www.ncbi.nlm.nih.gov/pubmed/4047106)\n",
    "\n",
    "**In other words, the authors are saying that women on HRT are half as likely to suffer a heart attack over a certain time period.** We'll define the term \"relative risk\" later in this section, and we'll also investigate the interpretation of these claims and their statistical basis."
   ]
  },
  {
   "cell_type": "markdown",
   "metadata": {
    "deletable": false,
    "editable": false
   },
   "source": [
    "**Question 1** Based on the passage above, which of the following statements can you infer about the Nurses' Health Study? Create an array called `nhs_true_statements` and add integers corresponding to statements you believe are correct (ex: write `nhs_true_statements = make_array(1, 2, 4)` if you think options 1, 2, and 4 are correct)\n",
    "\n",
    "1. The Nurses' Health Study was a controlled experiment with a control and treatment group.\n",
    "2. Hormone replacement therapy is most commonly used by young women.\n",
    "3. The study uses data that was self-reported by nurses for the analysis\n",
    "4. Since only nurses were included in the study, there's a chance that confounding factors influence our dataset.\n",
    "5. The study found that estrogen and progesterone use had an association with CHD rates in post-menopausal women.\n",
    "\n",
    "<!--\n",
    "BEGIN QUESTION\n",
    "name: q3_1_1\n",
    "-->"
   ]
  },
  {
   "cell_type": "code",
   "execution_count": 34,
   "metadata": {},
   "outputs": [
    {
     "data": {
      "text/plain": [
       "array([1, 4, 5])"
      ]
     },
     "execution_count": 34,
     "metadata": {},
     "output_type": "execute_result"
    }
   ],
   "source": [
    "nhs_true_statements = make_array(1, 4, 5)\n",
    "nhs_true_statements"
   ]
  },
  {
   "cell_type": "code",
   "execution_count": 35,
   "metadata": {
    "deletable": false,
    "editable": false
   },
   "outputs": [
    {
     "data": {
      "text/html": [
       "<p><strong><pre style='display: inline;'>q3_1_1</pre></strong> passed!</p>"
      ],
      "text/plain": [
       "q3_1_1 results: All test cases passed!"
      ]
     },
     "execution_count": 35,
     "metadata": {},
     "output_type": "execute_result"
    }
   ],
   "source": [
    "grader.check(\"q3_1_1\")"
   ]
  },
  {
   "cell_type": "markdown",
   "metadata": {},
   "source": [
    "**The scientists running the NHS wanted to compare post-menopausal women who had taken HRT with post-menopausal women who had never taken HRT, excluding all women who were not post-menopausal or who had previously suffered a heart attack.** This study design complicates the analysis because it creates a variety of reasons why women might drop in and out of the relevant comparison groups."
   ]
  },
  {
   "cell_type": "markdown",
   "metadata": {
    "deletable": false,
    "editable": false
   },
   "source": [
    "**Question 2.** Consider the following events which could occur in the middle of the study period (read the above paragraph carefully first): \n",
    "0. A woman (who has never had a heart attack) was pre-menopausal at the beginning of the study period becomes post-menopausal in the middle of the study period.\n",
    "1. A post-menopausal woman survives a heart attack in the middle of the study period (assume the woman is post-menopausal and had never before had a heart attack).\n",
    "2. A woman dies of cancer in the middle of the study period (assume the woman is post-menopausal and has never had a heart attack).\n",
    "3. A woman who was not on HRT at the beginning of the study period, and had never before taken HRT, begins taking HRT in the middle of the period (assume the woman is post-menopausal and has never had a heart attack).\n",
    "4. A woman who was taking HRT at the beginning of the study period stops taking HRT in the middle of the period (assume the woman is post-menopausal and has never had a heart attack).\n",
    "\n",
    "For each of the events listed above, answer whether they would result in a woman\n",
    "\n",
    "- (`E`) entering the study in the middle, \n",
    "- (`L`) leaving the study in the middle, \n",
    "- (`S`) switching from one comparison group to another in the middle, or \n",
    "- (`N`) none of the above \n",
    "\n",
    "<!--\n",
    "BEGIN QUESTION\n",
    "name: q3_1_2\n",
    "-->\n",
    "\n",
    "Assign `event_result` to an array of strings where the *i*th string is a single *capital* letter corresponding to your answer for the *i*th event.\n",
    "\n",
    "For example, an example answer is `event_result = make_array('N', 'E', 'E', 'L', 'E')` where our answer for event 0 is `N`, our answer for event 1 is `E`, our answer for event 2 is `E`, etc."
   ]
  },
  {
   "cell_type": "code",
   "execution_count": 36,
   "metadata": {},
   "outputs": [
    {
     "data": {
      "text/plain": [
       "array(['N', 'N', 'L', 'S', 'S'],\n",
       "      dtype='<U1')"
      ]
     },
     "execution_count": 36,
     "metadata": {},
     "output_type": "execute_result"
    }
   ],
   "source": [
    "event_result = make_array('N', 'N', 'L', 'S', 'S')\n",
    "event_result"
   ]
  },
  {
   "cell_type": "code",
   "execution_count": 37,
   "metadata": {
    "deletable": false,
    "editable": false
   },
   "outputs": [
    {
     "data": {
      "text/html": [
       "<p><strong><pre style='display: inline;'>q3_1_2</pre></strong> passed!</p>"
      ],
      "text/plain": [
       "q3_1_2 results: All test cases passed!"
      ]
     },
     "execution_count": 37,
     "metadata": {},
     "output_type": "execute_result"
    }
   ],
   "source": [
    "grader.check(\"q3_1_2\")"
   ]
  },
  {
   "cell_type": "markdown",
   "metadata": {},
   "source": [
    "Because women could (and did) drop into and out of the comparison groups in the middle of the study, it is difficult to make a table like we usually would, with one row per participant. In medical studies, individuals are typically weighted by the *amount of time* that they enrolled in the study. A more convenient sampling unit is a **person-month at risk**, which is one month spent by a particular woman in one of the comparison groups, during which she might or might not suffer a heart attack. Here, \"at risk\" just means the woman is being tracked by the survey in either of the two comparison groups, so that if she had a heart attack it would be counted in our data set.\n",
    "\n",
    "**Example**: The table below tracks the histories of two hypothetical post-menopausal women in a six-month longitudinal study, who both enter the study in January 1978:\n",
    "1. Alice has never been on HRT. She has a heart attack in March and is excluded for the remainder of the study period. \n",
    "2. Beatrice begins taking HRT for the first time in April and stays healthy throughout the study period.\n",
    "\n",
    "| Name     | Month    | HRT | Heart Attack   |                                             \n",
    "|----------|----------|-----|----------------|\n",
    "| Alice    | Jan 1978 |  0  | 0              |\n",
    "| Alice    | Feb 1978 |  0  | 0              |\n",
    "| Alice    | Mar 1978 |  0  | 1              |\n",
    "| Beatrice | Jan 1978 |  0  | 0              | \n",
    "| Beatrice | Feb 1978 |  0  | 0              |\n",
    "| Beatrice | Mar 1978 |  0  | 0              |\n",
    "| Beatrice | Apr 1978 |  1  | 0              |\n",
    "| Beatrice | May 1978 |  1  | 0              |\n",
    "| Beatrice | Jun 1978 |  1  | 0              |\n",
    "\n"
   ]
  },
  {
   "cell_type": "markdown",
   "metadata": {},
   "source": [
    "The probability that a heart attack will happen to a given at-risk person in a given duration of time is called the **hazard rate**. The NHS calculated its effects in terms of the **relative risk**, which is simply the hazard rate for *person-months* in the HRT (Group A) group divided by the hazard rate in the no-HRT (Group B) group.\n",
    "\n",
    "$$\\text{Relative Risk} = \\frac{\\text{Hazard Rate(Treatment Group)}}{\\text{Hazard Rate(Control Group)}}$$\n"
   ]
  },
  {
   "cell_type": "markdown",
   "metadata": {
    "deletable": false,
    "editable": false
   },
   "source": [
    "**Question 3.** Complete the following statements, by setting the variable names to the value that correctly fills in the blank.\n",
    "\n",
    "If the hazard rate of the treatment group is greater than the hazard rate of the control group, the relative risk will be `blank1_1` one. This means that individuals in the treatment group are at `blank1_2` risk of having an heart attack compared to those in the control group.\n",
    "\n",
    "If the hazard rate of the treatment group is less than the hazard rate of the control group, the relative risk will be `blank2_1` one. This means that individuals in the treatment group are at `blank2_2` risk of having an heart attack compared to those in the control group.\n",
    "\n",
    "If the hazard rate of the treatment group is equal to the hazard rate of the control group, the relative risk will be `blank3_1` one. This means that individuals in the treatment group are at `blank3_2` risk of having an heart attack compared to those in the control group.\n",
    "\n",
    "`blank1_1`, `blank2_1`, `blank3_1` should be set to one of the following strings: \"less than\", \"equal to\", or \"greater than\"\n",
    "\n",
    "`blank1_2`, `blank2_2`, `blank3_2` should be set to one of the following strings:\"lower\", \"equal\", or \"higher\" \n",
    "\n",
    "<!--\n",
    "BEGIN QUESTION\n",
    "name: q3_1_3\n",
    "-->"
   ]
  },
  {
   "cell_type": "code",
   "execution_count": 38,
   "metadata": {},
   "outputs": [],
   "source": [
    "blank1_1 = 'greater than'\n",
    "blank1_2 = 'higher'\n",
    "blank2_1 = 'less than'\n",
    "blank2_2 = 'lower'\n",
    "blank3_1 = 'equal to'\n",
    "blank3_2 = 'equal'"
   ]
  },
  {
   "cell_type": "code",
   "execution_count": 39,
   "metadata": {
    "deletable": false,
    "editable": false
   },
   "outputs": [
    {
     "data": {
      "text/html": [
       "<p><strong><pre style='display: inline;'>q3_1_3</pre></strong> passed!</p>"
      ],
      "text/plain": [
       "q3_1_3 results: All test cases passed!"
      ]
     },
     "execution_count": 39,
     "metadata": {},
     "output_type": "execute_result"
    }
   ],
   "source": [
    "grader.check(\"q3_1_3\")"
   ]
  },
  {
   "cell_type": "markdown",
   "metadata": {},
   "source": [
    "Most statistical methods that deal with this type of data assume that we can treat a table like the one above as though it is a sample of independent random draws from a much larger population of person-months at risk in each group. **We will take this assumption for granted throughout the rest of this section.**\n",
    "\n",
    "Instead of *person-months* at risk, the NHS used *person-years* at risk. It reported 51,478 total person-years at risk in the no-HRT group with 60 heart attacks occurring in total, as well as 54,309 person-years at risk in the HRT group with 30 heart attacks occurring in total. The table NHS below has one row for each person-year at risk. The two columns are 'HRT', recording whether it came from the HRT group (1) or no-HRT group (0), and 'Heart Attack', recording whether the participant had a heart attack that year (1 for yes, 0 for no)."
   ]
  },
  {
   "cell_type": "code",
   "execution_count": 40,
   "metadata": {},
   "outputs": [
    {
     "data": {
      "text/html": [
       "<table border=\"1\" class=\"dataframe\">\n",
       "    <thead>\n",
       "        <tr>\n",
       "            <th>HRT</th> <th>Heart Attack</th>\n",
       "        </tr>\n",
       "    </thead>\n",
       "    <tbody>\n",
       "        <tr>\n",
       "            <td>0   </td> <td>0           </td>\n",
       "        </tr>\n",
       "        <tr>\n",
       "            <td>0   </td> <td>0           </td>\n",
       "        </tr>\n",
       "        <tr>\n",
       "            <td>0   </td> <td>0           </td>\n",
       "        </tr>\n",
       "    </tbody>\n",
       "</table>\n",
       "<p>... (105784 rows omitted)</p>"
      ],
      "text/plain": [
       "<IPython.core.display.HTML object>"
      ]
     },
     "metadata": {},
     "output_type": "display_data"
    }
   ],
   "source": [
    "NHS = Table.read_table('NHS.csv')\n",
    "NHS.show(3)"
   ]
  },
  {
   "cell_type": "markdown",
   "metadata": {},
   "source": [
    "Using the NHS data, we can now conduct a hypothesis test to investigate the relationship between HRT and risk of CHD. We'll set up the test as follows:\n",
    "\n",
    "> **Null Hypothesis:** HRT does not affect the risk of CHD, and the true relative risk is equal to 1. Any deviation is due to random chance\n",
    "\n",
    "> **Alternative Hypothesis:** HRT decreases the risk of CHD, and the true relative risk is less than 1.\n",
    "\n",
    "> **Test Statistic:** Relative risk of CHD between post-menopausal women receiving HRT and post-menopausal women not receiving HRT (the definition of relative risk is repeated here for your convenience):\n",
    "\n",
    "$$\\text{Relative Risk} = \\frac{\\text{Hazard Rate(Treatment Group)}}{\\text{Hazard Rate(Control Group)}}$$\n",
    "\n",
    "*Note: Remember that we assume, under the null, that the two populations are derived from the same much larger population - under this assumption $\\text{Hazard Rate(Treatment Group)} = \\text{Hazard Rate(Control Group)}$. After simulation, we test this hypothesis by viewing the relative_risk for our simulated samples.*"
   ]
  },
  {
   "cell_type": "markdown",
   "metadata": {
    "deletable": false,
    "editable": false
   },
   "source": [
    "**Question 4.** Fill in the missing code below to write a function called `relative_risk` that takes in a table with the column labels `HRT` and `Heart Attack`, and computes the sample relative risk as an estimate of the population relative risk. Do *not* round your answer.\n",
    "\n",
    "<!--\n",
    "BEGIN QUESTION\n",
    "name: q3_1_4\n",
    "-->"
   ]
  },
  {
   "cell_type": "code",
   "execution_count": 41,
   "metadata": {},
   "outputs": [
    {
     "data": {
      "text/plain": [
       "0.47393618000699694"
      ]
     },
     "execution_count": 41,
     "metadata": {},
     "output_type": "execute_result"
    }
   ],
   "source": [
    "def relative_risk(tbl):\n",
    "    \"\"\"Return the ratio of the hazard rates (events per person-year) for the two groups\"\"\"\n",
    "    #TC = NHS.where('HRT', are.equal_to(1))\n",
    "    #.where('Heart Attack', are.equal_to('1'))\n",
    "    #HRTC = np.sum(TC.column('Heart Attack')) / len(NHS.where('HRT', are.equal_to(1)))\n",
    "    #CC = NHS.where('HRT', are.equal_to(0))\n",
    "    #.where('Heart Attack', are.equal_to('1'))\n",
    "    #HRCC = np.sum(CC.column('Heart Attack'))/ len(NHS.where('HRT', are.equal_to(0)))\n",
    "    #return HRTC / HRCC\n",
    "    \n",
    "    HRT = tbl.where(\"HRT\",1)\n",
    "    no_HRT = tbl.where(\"HRT\",0)\n",
    "    hazard_rate_HRT = np.sum(HRT.column(\"Heart Attack\"))/(len(HRT.column(\"HRT\")))\n",
    "    hazard_rate_no_HRT = np.sum(no_HRT.column(\"Heart Attack\"))/(len(no_HRT.column(\"HRT\")))\n",
    "    relative_risk = hazard_rate_HRT/hazard_rate_no_HRT\n",
    "    return relative_risk\n",
    "\n",
    "    \n",
    "relative_risk(NHS)"
   ]
  },
  {
   "cell_type": "code",
   "execution_count": 42,
   "metadata": {
    "deletable": false,
    "editable": false
   },
   "outputs": [
    {
     "data": {
      "text/html": [
       "<p><strong><pre style='display: inline;'>q3_1_4</pre></strong> passed!</p>"
      ],
      "text/plain": [
       "q3_1_4 results: All test cases passed!"
      ]
     },
     "execution_count": 42,
     "metadata": {},
     "output_type": "execute_result"
    }
   ],
   "source": [
    "grader.check(\"q3_1_4\")"
   ]
  },
  {
   "cell_type": "markdown",
   "metadata": {
    "deletable": false,
    "editable": false
   },
   "source": [
    "**Question 5.** Fill in the function `one_bootstrap_rr` so that it generates one bootstrap sample and computes the relative risk. Assign `bootstrap_rrs` to 10 (yes, only 10; the code is slow!) estimates of the population relative risk.\n",
    "\n",
    "*Note:* The cell may take a few seconds to run.\n",
    "\n",
    "<!--\n",
    "BEGIN QUESTION\n",
    "name: q3_1_5\n",
    "-->"
   ]
  },
  {
   "cell_type": "code",
   "execution_count": 43,
   "metadata": {},
   "outputs": [],
   "source": [
    "def one_bootstrap_rr():\n",
    "    return relative_risk(NHS.sample())\n",
    "\n",
    "bootstrap_rrs = make_array()\n",
    "for i in np.arange(10):\n",
    "    new_bootstrap_rr =one_bootstrap_rr()\n",
    "    bootstrap_rrs =np.append(bootstrap_rrs, new_bootstrap_rr)"
   ]
  },
  {
   "cell_type": "code",
   "execution_count": 44,
   "metadata": {
    "deletable": false,
    "editable": false
   },
   "outputs": [
    {
     "data": {
      "text/html": [
       "<p><strong><pre style='display: inline;'>q3_1_5</pre></strong> passed!</p>"
      ],
      "text/plain": [
       "q3_1_5 results: All test cases passed!"
      ]
     },
     "execution_count": 44,
     "metadata": {},
     "output_type": "execute_result"
    }
   ],
   "source": [
    "grader.check(\"q3_1_5\")"
   ]
  },
  {
   "cell_type": "markdown",
   "metadata": {
    "deletable": false,
    "editable": false
   },
   "source": [
    "**Question 6.** The file `bootstrap_rrs.csv` contains a one-column table with 2001 saved bootstrapped relative risks. Use these bootstrapped values to compute a 95% confidence interval, storing the left endpoint as `ci_left` and the right endpoint as `ci_right`. \n",
    "\n",
    "Note that our method isn't exactly the same as the method employed by the study authors to get their confidence interval.\n",
    "\n",
    "<!--\n",
    "BEGIN QUESTION\n",
    "name: q3_1_6\n",
    "-->"
   ]
  },
  {
   "cell_type": "code",
   "execution_count": 45,
   "metadata": {},
   "outputs": [
    {
     "name": "stdout",
     "output_type": "stream",
     "text": [
      "Middle 95% of bootstrappped relative risks: [0.295930, 0.730383]\n"
     ]
    }
   ],
   "source": [
    "bootstrap_rrs_from_tbl = Table.read_table('bootstrap_rrs.csv').column(0)\n",
    "ci_left = percentile(2.5, bootstrap_rrs_from_tbl)\n",
    "ci_right = percentile(97.5, bootstrap_rrs_from_tbl)\n",
    "\n",
    "print(\"Middle 95% of bootstrappped relative risks: [{:f}, {:f}]\".format(ci_left, ci_right))"
   ]
  },
  {
   "cell_type": "code",
   "execution_count": 46,
   "metadata": {
    "deletable": false,
    "editable": false
   },
   "outputs": [
    {
     "data": {
      "text/html": [
       "<p><strong><pre style='display: inline;'>q3_1_6</pre></strong> passed!</p>"
      ],
      "text/plain": [
       "q3_1_6 results: All test cases passed!"
      ]
     },
     "execution_count": 46,
     "metadata": {},
     "output_type": "execute_result"
    }
   ],
   "source": [
    "grader.check(\"q3_1_6\")"
   ]
  },
  {
   "cell_type": "markdown",
   "metadata": {},
   "source": [
    "The code below plots the confidence interval on top of the bootstrap histogram."
   ]
  },
  {
   "cell_type": "code",
   "execution_count": 47,
   "metadata": {},
   "outputs": [
    {
     "data": {
      "image/png": "[encoded data removed]",
      "text/plain": [
       "<Figure size 600x400 with 1 Axes>"
      ]
     },
     "metadata": {},
     "output_type": "display_data"
    }
   ],
   "source": [
    "# Just run this cell\n",
    "Table().with_column(\"Relative Risks\", bootstrap_rrs_from_tbl).hist()\n",
    "plots.plot([ci_left, ci_right], [.05,.05], color=\"gold\");"
   ]
  },
  {
   "cell_type": "markdown",
   "metadata": {
    "deletable": false,
    "editable": false
   },
   "source": [
    "**Question 7.** The abstract of the original paper gives a 95% confidence interval of [0.3, 0.8] for the relative risk. Which of the following statements can be justified based on that confidence interval? \n",
    "\n",
    "1. There is a 95% chance the relative risk is between 0.3 and 0.8.\n",
    "2. If we used a P-value cutoff of 5%, we would reject the null hypothesis that HRT does not affect the risk of CHD.\n",
    "3. If we redo the procedure that generated the interval [0.3, 0.8] on a fresh sample of the same size, there is a 95% chance it will include the true relative risk.\n",
    "4. There is between a 30% and 80% chance that any woman will suffer a heart attack during the study period.\n",
    "\n",
    "Assign `ci_statements` to a list of number(s) corresponding to the correct answer(s).\n",
    "\n",
    "<!--\n",
    "BEGIN QUESTION\n",
    "name: q3_1_7\n",
    "-->"
   ]
  },
  {
   "cell_type": "code",
   "execution_count": 48,
   "metadata": {},
   "outputs": [],
   "source": [
    "ci_statements = make_array(2)"
   ]
  },
  {
   "cell_type": "code",
   "execution_count": 49,
   "metadata": {
    "deletable": false,
    "editable": false
   },
   "outputs": [
    {
     "data": {
      "text/html": [
       "<p><strong><pre style='display: inline;'>q3_1_7</pre></strong> passed!</p>"
      ],
      "text/plain": [
       "q3_1_7 results: All test cases passed!"
      ]
     },
     "execution_count": 49,
     "metadata": {},
     "output_type": "execute_result"
    }
   ],
   "source": [
    "grader.check(\"q3_1_7\")"
   ]
  },
  {
   "cell_type": "markdown",
   "metadata": {
    "deletable": false,
    "editable": false
   },
   "source": [
    "<!-- BEGIN QUESTION -->\n",
    "\n",
    "**Question 8.** What can you conclude from this test? Was hormone replacement therapy associated with an increased or decreased risk of heart attacks? Can we say that HRT caused an change in the risk of heart attacks? Explain your reasoning in 2-4 sentences. \n",
    "\n",
    "<!--\n",
    "BEGIN QUESTION\n",
    "name: q3_1_8\n",
    "manual: true\n",
    "-->"
   ]
  },
  {
   "cell_type": "markdown",
   "metadata": {},
   "source": [
    "We can reject the null hypothesis.\n",
    "HRT is linked to a reduced risk of heart attacks, but we are not sure if there're confounding variables. Therefore, we cannot conclude the causaliby between HRT and risk of heart attacks."
   ]
  },
  {
   "cell_type": "markdown",
   "metadata": {},
   "source": [
    "<!-- END QUESTION -->\n",
    "\n",
    "\n",
    "\n",
    "Partly as a result of evidence from the NHS and other observational studies that drew similar conclusions, HRT drugs became a very popular preventive treatment for doctors to prescribe to post-menopausal woman. Even though there were known or suspected risks to the treatment (such as increasing the risk of invasive breast cancer), it was thought that the reduction in heart disease risk was well worth it."
   ]
  },
  {
   "cell_type": "markdown",
   "metadata": {},
   "source": [
    "### Section 2: The Heart and Estrogen-Progestin Replacement Study"
   ]
  },
  {
   "cell_type": "markdown",
   "metadata": {},
   "source": [
    "The Heart and Estrogen-Progestin Replacement Study (HERS) was a large randomized controlled trial carried out by the Women's Health Initiative, which sought to verify whether HRT drugs were as effective as the observational studies seemed to suggest. 2,763 women with a history of heart disease were selected and randomly assigned to receive the treatment (daily estrogen pills) or a placebo pill that looked identical to the treatment. Of the 2763 women participating, 1380 were assigned to the treatment condition and 1383 to the control. They were followed for an average of three years and the number of heart attacks in the two groups was compared."
   ]
  },
  {
   "cell_type": "markdown",
   "metadata": {},
   "source": [
    "The main results table from the HERS study [Hulley et al. (1998)](https://jamanetwork.com/journals/jama/fullarticle/187879) is reproduced here:\n",
    "\n",
    "<img src=\"HERS-table.png\" width=500>"
   ]
  },
  {
   "cell_type": "markdown",
   "metadata": {},
   "source": [
    "For this study, constructed our own table from scratch based on the results given above. The results are contained in the table `HERS` that has one row for each woman in the trial and two columns: `HRT`, which is 1 if she was assigned to treatment and 0 otherwise, and `CHD`, which is 1 if she suffered a Primary CHD (Coronary Heart Disease) event and 0 otherwise.\n",
    "\n",
    "Run the cell below to view the results from the HERS study."
   ]
  },
  {
   "cell_type": "code",
   "execution_count": 50,
   "metadata": {},
   "outputs": [
    {
     "data": {
      "text/html": [
       "<table border=\"1\" class=\"dataframe\">\n",
       "    <thead>\n",
       "        <tr>\n",
       "            <th>HRT</th> <th>CHD</th>\n",
       "        </tr>\n",
       "    </thead>\n",
       "    <tbody>\n",
       "        <tr>\n",
       "            <td>0   </td> <td>0   </td>\n",
       "        </tr>\n",
       "        <tr>\n",
       "            <td>0   </td> <td>0   </td>\n",
       "        </tr>\n",
       "        <tr>\n",
       "            <td>0   </td> <td>0   </td>\n",
       "        </tr>\n",
       "    </tbody>\n",
       "</table>\n",
       "<p>... (2760 rows omitted)</p>"
      ],
      "text/plain": [
       "<IPython.core.display.HTML object>"
      ]
     },
     "metadata": {},
     "output_type": "display_data"
    }
   ],
   "source": [
    "num_control = 1383 \n",
    "num_treatment = 1380\n",
    "\n",
    "num_control_chd = 176\n",
    "num_treatment_chd = 172\n",
    "\n",
    "hrt = np.append(np.zeros(num_control), np.ones(num_treatment))\n",
    "chd_control = np.append(np.zeros(num_control - num_control_chd), np.ones(num_control_chd))\n",
    "chd_treatment = np.append(np.zeros(num_treatment - num_treatment_chd), np.ones(num_treatment_chd))\n",
    "chd = np.append(chd_control, chd_treatment)\n",
    "\n",
    "HERS = Table().with_columns('HRT', hrt, 'CHD', chd)\n",
    "HERS.show(3)"
   ]
  },
  {
   "cell_type": "markdown",
   "metadata": {
    "deletable": false,
    "editable": false
   },
   "source": [
    "**Question 1.** We would like to test the null hypothesis that the treatment (HRT) has no effect on the outcome (CHD), against the alternative hypothesis that the treatment does have an effect. What would be a good test statistic? \n",
    "\n",
    "Assign `good_ts` to an array of number(s) corresponding to the correct answer(s). Keep in mind that this was the first clinical trial to be done on this subject; as a result, it was not clear at the time whether any effect would be positive or negative.\n",
    "\n",
    "\n",
    "1. The absolute difference between 1 and the relative risk.\n",
    "2. The average CHD rate for the treatment group.\n",
    "3. 10 times the absolute difference between the control and treatment groups' average CHD rates.\n",
    "\n",
    "<!--\n",
    "BEGIN QUESTION\n",
    "name: q3_2_1\n",
    "-->"
   ]
  },
  {
   "cell_type": "code",
   "execution_count": 51,
   "metadata": {},
   "outputs": [],
   "source": [
    "good_ts = make_array(1, 3)"
   ]
  },
  {
   "cell_type": "code",
   "execution_count": 52,
   "metadata": {
    "deletable": false,
    "editable": false
   },
   "outputs": [
    {
     "data": {
      "text/html": [
       "<p><strong><pre style='display: inline;'>q3_2_1</pre></strong> passed!</p>"
      ],
      "text/plain": [
       "q3_2_1 results: All test cases passed!"
      ]
     },
     "execution_count": 52,
     "metadata": {},
     "output_type": "execute_result"
    }
   ],
   "source": [
    "grader.check(\"q3_2_1\")"
   ]
  },
  {
   "cell_type": "markdown",
   "metadata": {
    "deletable": false,
    "editable": false
   },
   "source": [
    "**Question 2.** We'll use distance (absolute difference) between average CHD rates as our test statistic. \n",
    "\n",
    "Write a function called `hers_test_statistic` to calculate this test statistic on a table with columns `HRT` and `CHD`. Use this function to calculate the observed test statistic, and assign it to `observed_HERS_test_statistic`.\n",
    "\n",
    "Think about what values of the test statistic support the null versus the alternative hypothesis. You'll use this information to compute the p-value later in this section.\n",
    "<!--\n",
    "BEGIN QUESTION\n",
    "name: q3_2_2\n",
    "-->"
   ]
  },
  {
   "cell_type": "code",
   "execution_count": 53,
   "metadata": {},
   "outputs": [
    {
     "data": {
      "text/plain": [
       "0.0026218994624162967"
      ]
     },
     "execution_count": 53,
     "metadata": {},
     "output_type": "execute_result"
    }
   ],
   "source": [
    "def HERS_test_statistic(tbl):\n",
    "    \"\"\"Test statistic: Distance between the average responses\"\"\"\n",
    "    HRT = tbl.where('HRT', 1)\n",
    "    NO_HRT = tbl.where('HRT', 0)\n",
    "    HRT_avr = np.sum(HRT.column('CHD'))/len(HRT.column('HRT'))\n",
    "    NO_HRT_avr =  np.sum(NO_HRT.column('CHD'))/len(NO_HRT.column('HRT'))\n",
    "    distance = abs(HRT_avr - NO_HRT_avr)\n",
    "    return distance\n",
    "observed_HERS_test_statistic = HERS_test_statistic(HERS)\n",
    "observed_HERS_test_statistic"
   ]
  },
  {
   "cell_type": "code",
   "execution_count": 54,
   "metadata": {
    "deletable": false,
    "editable": false
   },
   "outputs": [
    {
     "data": {
      "text/html": [
       "<p><strong><pre style='display: inline;'>q3_2_2</pre></strong> passed!</p>"
      ],
      "text/plain": [
       "q3_2_2 results: All test cases passed!"
      ]
     },
     "execution_count": 54,
     "metadata": {},
     "output_type": "execute_result"
    }
   ],
   "source": [
    "grader.check(\"q3_2_2\")"
   ]
  },
  {
   "cell_type": "markdown",
   "metadata": {
    "deletable": false,
    "editable": false
   },
   "source": [
    "**Question 3.** Write a function called `simulate_one_HERS_statistic` to simulate one value of the test statistic under the null hypothesis. Make sure you're shufflling the labels `HRT`.\n",
    "\n",
    "Then, use the function to repeatedly sample the null hypothesis 1000 times and compute the test statistic each time. The cell may take a few seconds to run.\n",
    "\n",
    "<!--\n",
    "BEGIN QUESTION\n",
    "name: q3_2_3\n",
    "-->"
   ]
  },
  {
   "cell_type": "code",
   "execution_count": 55,
   "metadata": {},
   "outputs": [],
   "source": [
    "def simulate_one_HERS_statistic():\n",
    "    shuffled = HERS.sample(with_replacement = False).column('HRT')\n",
    "    new = HERS.select('CHD').with_column('Shuffled HRT', shuffled)\n",
    "    HRT = new.where('Shuffled HRT', 1)\n",
    "    NHRT = new.where('Shuffled HRT', 0)\n",
    "    HRT_avr = np.sum(HRT.column('CHD'))/len(HRT.column('Shuffled HRT'))\n",
    "    NHRT_avr = np.sum(NHRT.column('CHD'))/len(NHRT.column('Shuffled HRT'))\n",
    "    distance = abs(HRT_avr - NHRT_avr)\n",
    "    return distance\n",
    "HERS_test_statistics = make_array()\n",
    "for i in np.arange(1000):\n",
    "    new_HERS_statistic = simulate_one_HERS_statistic()\n",
    "    HERS_test_statistics = np.append(HERS_test_statistics,new_HERS_statistic)"
   ]
  },
  {
   "cell_type": "code",
   "execution_count": 56,
   "metadata": {
    "deletable": false,
    "editable": false
   },
   "outputs": [
    {
     "data": {
      "text/html": [
       "<p><strong><pre style='display: inline;'>q3_2_3</pre></strong> passed!</p>"
      ],
      "text/plain": [
       "q3_2_3 results: All test cases passed!"
      ]
     },
     "execution_count": 56,
     "metadata": {},
     "output_type": "execute_result"
    }
   ],
   "source": [
    "grader.check(\"q3_2_3\")"
   ]
  },
  {
   "cell_type": "markdown",
   "metadata": {},
   "source": [
    "The code below generates a histogram of the simulated test statistics along with your test statistic:"
   ]
  },
  {
   "cell_type": "code",
   "execution_count": 57,
   "metadata": {},
   "outputs": [
    {
     "data": {
      "image/png": "[encoded data removed]",
      "text/plain": [
       "<Figure size 600x400 with 1 Axes>"
      ]
     },
     "metadata": {},
     "output_type": "display_data"
    }
   ],
   "source": [
    "Table().with_column('Simulated test statistics', HERS_test_statistics).hist(bins=np.arange(0,.04,.003))\n",
    "plots.scatter(HERS_test_statistic(HERS), 0, color='red', s=30);"
   ]
  },
  {
   "cell_type": "markdown",
   "metadata": {
    "deletable": false,
    "editable": false
   },
   "source": [
    "**Question 4.** Compute the P-value for your hypothesis test and assign it to `HERS_pval`. \n",
    "\n",
    "<!--\n",
    "BEGIN QUESTION\n",
    "name: q3_2_4\n",
    "-->"
   ]
  },
  {
   "cell_type": "code",
   "execution_count": 58,
   "metadata": {},
   "outputs": [
    {
     "data": {
      "text/plain": [
       "0.861"
      ]
     },
     "execution_count": 58,
     "metadata": {},
     "output_type": "execute_result"
    }
   ],
   "source": [
    "HERS_pval = np.count_nonzero(HERS_test_statistics >= observed_HERS_test_statistic)/1000\n",
    "HERS_pval"
   ]
  },
  {
   "cell_type": "code",
   "execution_count": 59,
   "metadata": {
    "deletable": false,
    "editable": false
   },
   "outputs": [
    {
     "data": {
      "text/html": [
       "<p><strong><pre style='display: inline;'>q3_2_4</pre></strong> passed!</p>"
      ],
      "text/plain": [
       "q3_2_4 results: All test cases passed!"
      ]
     },
     "execution_count": 59,
     "metadata": {},
     "output_type": "execute_result"
    }
   ],
   "source": [
    "grader.check(\"q3_2_4\")"
   ]
  },
  {
   "cell_type": "markdown",
   "metadata": {},
   "source": [
    "In part 3, we gave you 2001 bootstrapped relative risks. In the context of the HERS trial, relative risk is now defined as the ratio of the probability that a given woman in the treatment group will have CHD over the study period divided by the probability that a given woman in the control group will have CHD over the study period.\n",
    "\n",
    "We plot the histogram of bootstrapped relative risks, along with a confidence interval representing the middle 95% of that histogram:\n",
    "<img src=\"bootstrap-HERS.png\" width=400>"
   ]
  },
  {
   "cell_type": "markdown",
   "metadata": {
    "deletable": false,
    "editable": false
   },
   "source": [
    "<!-- BEGIN QUESTION -->\n",
    "\n",
    "**Question 5.** Based on the results for this experiment using HERS data, can we reject our null hypothesis that HRT has no effect on CHD risk? Explain why or why not using both the p-value and 95% confidence interval.\n",
    "\n",
    "*Hint*: If you're not sure how to interpret relative risks, go back to Question 3 of Nurses' Health Study section.\n",
    "\n",
    "<!--\n",
    "BEGIN QUESTION\n",
    "name: q3_2_5\n",
    "manual: true\n",
    "-->"
   ]
  },
  {
   "cell_type": "markdown",
   "metadata": {},
   "source": [
    "The experiment using HERS data found a significant effect of HRT on CHD risk, rejecting the null hypothesis. This is supported by a p-value < 0.05 and a 95% confidence interval that does not include 1"
   ]
  },
  {
   "cell_type": "markdown",
   "metadata": {},
   "source": [
    "<!-- END QUESTION -->\n",
    "\n",
    "\n",
    "\n",
    "The Heart and Estrogen-Progestin Replacement Study found that HRT did not have a significant impact on a woman's risk of CHD. These findings contradicted the results of the Nurses' Heart study, challenging the efficacy of a treatment that had become the standard of care for heart disease prevention. \n",
    "\n",
    "The HERS study authors put forward a possible answer regarding why the NHS study might be biased:\n",
    "> However, the observed association between estrogen therapy and reduced CHD risk might be attributable to selection bias if women who choose to take hormones are healthier and have a more favorable CHD profile than those who do not. Observational studies cannot resolve this uncertainty.\n",
    "\n",
    "**Selection bias** occurs in observational studies when there is a systematic difference between participants that receive a treatment and participants that do not receive a treatment. When this type of bias is present, the observed treatment effect might be a result of an unmeasured confounding variable."
   ]
  },
  {
   "cell_type": "markdown",
   "metadata": {
    "deletable": false,
    "editable": false
   },
   "source": [
    "<!-- BEGIN QUESTION -->\n",
    "\n",
    "**Question 6:** If women who choose to take hormones are healthier to begin with than women who choose not to, why might that systematically bias the results of observational studies like the NHS? Would we expect observational studies to overestimate or underestimate the protective effect of HRT?\n",
    "\n",
    "<!--\n",
    "BEGIN QUESTION\n",
    "name: q3_2_4\n",
    "manual: true\n",
    "-->"
   ]
  },
  {
   "cell_type": "markdown",
   "metadata": {},
   "source": [
    "If healthier women are more likely to take hormones, observational studies may overestimate the protective effect of HRT because the observed reduction in CHD risk could be due to the underlying health differences. "
   ]
  },
  {
   "cell_type": "markdown",
   "metadata": {},
   "source": [
    "<!-- END QUESTION -->\n",
    "\n",
    "\n",
    "\n",
    "### Further reading\n",
    "\n",
    "If you're interested in learning more, you can check out these articles:\n",
    "\n",
    "* [Origin story of the Framingham Heart Study](https://www.ncbi.nlm.nih.gov/pmc/articles/PMC1449227/)\n",
    "* [NYT article on the Nurses' Health Study and the HERS study](https://www.nytimes.com/2003/04/22/science/hormone-studies-what-went-wrong.html)"
   ]
  },
  {
   "cell_type": "markdown",
   "metadata": {},
   "source": [
    "## Checkpoint 2 (Due Nov. 22)\n",
    "#### Congratulations, you have reached the second checkpoint! \n",
    "To get full credit for this checkpoint, you must pass all the public autograder tests above this cell."
   ]
  },
  {
   "cell_type": "markdown",
   "metadata": {},
   "source": [
    "# Part 4: Diet and Covid-19"
   ]
  },
  {
   "cell_type": "markdown",
   "metadata": {},
   "source": [
    "This table outlines how much fat from different types of food the average person from each country consumes, as well as data about obesity, malnourishment, cases of Covid-19 and the results of those cases. Let's explore how the death rates of countries with increased consumption of animal products compared to countries with lower consumption of animal products. "
   ]
  },
  {
   "cell_type": "code",
   "execution_count": 60,
   "metadata": {},
   "outputs": [
    {
     "data": {
      "text/html": [
       "<table border=\"1\" class=\"dataframe\">\n",
       "    <thead>\n",
       "        <tr>\n",
       "            <th>Country</th> <th>Alcoholic Beverages</th> <th>Animal Products</th> <th>Animal fats</th> <th>Aquatic Products, Other</th> <th>Cereals - Excluding Beer</th> <th>Eggs</th> <th>Fish, Seafood</th> <th>Fruits - Excluding Wine</th> <th>Meat</th> <th>Miscellaneous</th> <th>Milk - Excluding Butter</th> <th>Offals</th> <th>Oilcrops</th> <th>Pulses</th> <th>Spices</th> <th>Starchy Roots</th> <th>Stimulants</th> <th>Sugar Crops</th> <th>Sugar & Sweeteners</th> <th>Treenuts</th> <th>Vegetal Products</th> <th>Vegetable Oils</th> <th>Vegetables</th> <th>Obesity</th> <th>Undernourished</th> <th>Confirmed</th> <th>Deaths</th> <th>Recovered</th> <th>Active</th> <th>Population</th> <th>Unit (all except Population)</th>\n",
       "        </tr>\n",
       "    </thead>\n",
       "    <tbody>\n",
       "        <tr>\n",
       "            <td>Afghanistan        </td> <td>0                  </td> <td>21.6397        </td> <td>6.2224     </td> <td>0                      </td> <td>8.0353                  </td> <td>0.6859</td> <td>0.0327       </td> <td>0.4246                 </td> <td>6.1244 </td> <td>0.0163       </td> <td>8.2803                 </td> <td>0.3103</td> <td>1.0452  </td> <td>0.196 </td> <td>0.2776</td> <td>0.049        </td> <td>0.098     </td> <td>0          </td> <td>0                 </td> <td>0.7513  </td> <td>28.3684         </td> <td>17.0831       </td> <td>0.3593    </td> <td>4.5    </td> <td>29.8          </td> <td>0.142134 </td> <td>0.00618578</td> <td>0.123374 </td> <td>0.0125745 </td> <td>3.8928e+07</td> <td>%                           </td>\n",
       "        </tr>\n",
       "        <tr>\n",
       "            <td>Albania            </td> <td>0                  </td> <td>32.0002        </td> <td>3.4172     </td> <td>0                      </td> <td>2.6734                  </td> <td>1.6448</td> <td>0.1445       </td> <td>0.6418                 </td> <td>8.7428 </td> <td>0.017        </td> <td>17.7576                </td> <td>0.2933</td> <td>3.1622  </td> <td>0.1148</td> <td>0     </td> <td>0.051        </td> <td>0.527     </td> <td>0          </td> <td>0                 </td> <td>0.9181  </td> <td>17.9998         </td> <td>9.2443        </td> <td>0.6503    </td> <td>22.3   </td> <td>6.2           </td> <td>2.9673   </td> <td>0.0509514 </td> <td>1.79264  </td> <td>1.12371   </td> <td>2.838e+06 </td> <td>%                           </td>\n",
       "        </tr>\n",
       "        <tr>\n",
       "            <td>Algeria            </td> <td>0                  </td> <td>14.4175        </td> <td>0.8972     </td> <td>0                      </td> <td>4.2035                  </td> <td>1.2171</td> <td>0.2008       </td> <td>0.5772                 </td> <td>3.8961 </td> <td>0.0439       </td> <td>8.0934                 </td> <td>0.1067</td> <td>1.1983  </td> <td>0.2698</td> <td>0.1568</td> <td>0.1129       </td> <td>0.2886    </td> <td>0          </td> <td>0                 </td> <td>0.8595  </td> <td>35.5857         </td> <td>27.3606       </td> <td>0.5145    </td> <td>26.6   </td> <td>3.9           </td> <td>0.244897 </td> <td>0.00655815</td> <td>0.167572 </td> <td>0.0707667 </td> <td>4.4357e+07</td> <td>%                           </td>\n",
       "        </tr>\n",
       "        <tr>\n",
       "            <td>Angola             </td> <td>0                  </td> <td>15.3041        </td> <td>1.313      </td> <td>0                      </td> <td>6.5545                  </td> <td>0.1539</td> <td>1.4155       </td> <td>0.3488                 </td> <td>11.0268</td> <td>0.0308       </td> <td>1.2309                 </td> <td>0.1539</td> <td>3.9902  </td> <td>0.3282</td> <td>0.0103</td> <td>0.7078       </td> <td>0.1128    </td> <td>0          </td> <td>0                 </td> <td>0.0308  </td> <td>34.701          </td> <td>22.4638       </td> <td>0.1231    </td> <td>6.8    </td> <td>25            </td> <td>0.0616875</td> <td>0.00146055</td> <td>0.0568077</td> <td>0.00341922</td> <td>3.2522e+07</td> <td>%                           </td>\n",
       "        </tr>\n",
       "        <tr>\n",
       "            <td>Antigua and Barbuda</td> <td>0                  </td> <td>27.7033        </td> <td>4.6686     </td> <td>0                      </td> <td>3.2153                  </td> <td>0.3872</td> <td>1.5263       </td> <td>1.2177                 </td> <td>14.3202</td> <td>0.0898       </td> <td>6.6607                 </td> <td>0.1347</td> <td>1.3579  </td> <td>0.0673</td> <td>0.3591</td> <td>0.0449       </td> <td>1.0549    </td> <td>0          </td> <td>0                 </td> <td>0.202   </td> <td>22.2995         </td> <td>14.4436       </td> <td>0.2469    </td> <td>19.1   </td> <td>nan           </td> <td>0.293878 </td> <td>0.00714286</td> <td>0.190816 </td> <td>0.0959184 </td> <td>98000     </td> <td>%                           </td>\n",
       "        </tr>\n",
       "        <tr>\n",
       "            <td>Argentina          </td> <td>0                  </td> <td>30.3572        </td> <td>3.3076     </td> <td>0                      </td> <td>1.3316                  </td> <td>1.5706</td> <td>0.1664       </td> <td>0.2091                 </td> <td>19.2693</td> <td>0            </td> <td>5.8512                 </td> <td>0.1878</td> <td>0.064   </td> <td>0.0213</td> <td>0.0213</td> <td>0.111        </td> <td>0.2475    </td> <td>0          </td> <td>0                 </td> <td>0.1366  </td> <td>19.6449         </td> <td>17.3147       </td> <td>0.1878    </td> <td>28.5   </td> <td>4.6           </td> <td>4.35615  </td> <td>0.108227  </td> <td>3.90519  </td> <td>0.342729  </td> <td>4.5377e+07</td> <td>%                           </td>\n",
       "        </tr>\n",
       "        <tr>\n",
       "            <td>Armenia            </td> <td>0                  </td> <td>29.6642        </td> <td>6.2619     </td> <td>0                      </td> <td>2.5068                  </td> <td>1.6196</td> <td>0.2218       </td> <td>0.5468                 </td> <td>10.8165</td> <td>0.0361       </td> <td>10.4709                </td> <td>0.2734</td> <td>0.6602  </td> <td>0.0774</td> <td>0.0103</td> <td>0.0567       </td> <td>1.8002    </td> <td>0          </td> <td>0                 </td> <td>0.9542  </td> <td>20.3384         </td> <td>12.8127       </td> <td>0.8717    </td> <td>20.9   </td> <td>4.3           </td> <td>5.68122  </td> <td>0.105345  </td> <td>5.39841  </td> <td>0.17747   </td> <td>2.956e+06 </td> <td>%                           </td>\n",
       "        </tr>\n",
       "        <tr>\n",
       "            <td>Australia          </td> <td>0                  </td> <td>24.1099        </td> <td>4.603      </td> <td>0                      </td> <td>0.9908                  </td> <td>0.7017</td> <td>0.4515       </td> <td>0.4028                 </td> <td>11.6002</td> <td>0.052        </td> <td>6.5196                 </td> <td>0.2339</td> <td>1.2929  </td> <td>0.026 </td> <td>0.1007</td> <td>0.0422       </td> <td>0.7926    </td> <td>0          </td> <td>0                 </td> <td>1.6145  </td> <td>25.8901         </td> <td>20.3612       </td> <td>0.2144    </td> <td>30.4   </td> <td><2.5          </td> <td>0.112025 </td> <td>0.00352955</td> <td>0.101289 </td> <td>0.00720665</td> <td>2.5754e+07</td> <td>%                           </td>\n",
       "        </tr>\n",
       "        <tr>\n",
       "            <td>Austria            </td> <td>0                  </td> <td>27.8268        </td> <td>12.8517    </td> <td>0                      </td> <td>1.2297                  </td> <td>1.2147</td> <td>0.4259       </td> <td>0.2249                 </td> <td>8.1099 </td> <td>0            </td> <td>5.1497                 </td> <td>0.075 </td> <td>1.1367  </td> <td>0.012 </td> <td>0.102 </td> <td>0.045        </td> <td>0.4439    </td> <td>0          </td> <td>0                 </td> <td>0.8398  </td> <td>22.1762         </td> <td>17.9323       </td> <td>0.2039    </td> <td>21.9   </td> <td><2.5          </td> <td>4.73998  </td> <td>0.0896792 </td> <td>4.49687  </td> <td>0.153433  </td> <td>8.914e+06 </td> <td>%                           </td>\n",
       "        </tr>\n",
       "        <tr>\n",
       "            <td>Azerbaijan         </td> <td>0                  </td> <td>32.1198        </td> <td>7.7987     </td> <td>0                      </td> <td>5.4481                  </td> <td>2.0197</td> <td>0.2122       </td> <td>0.594                  </td> <td>11.9993</td> <td>0.017        </td> <td>9.9202                 </td> <td>0.1612</td> <td>0.1867  </td> <td>0.0255</td> <td>0.017 </td> <td>0.1697       </td> <td>1.3663    </td> <td>0          </td> <td>0                 </td> <td>2.2573  </td> <td>17.8802         </td> <td>7.1538        </td> <td>0.6534    </td> <td>19.9   </td> <td><2.5          </td> <td>2.28554  </td> <td>0.0312228 </td> <td>2.22557  </td> <td>0.0287396 </td> <td>1.0108e+07</td> <td>%                           </td>\n",
       "        </tr>\n",
       "    </tbody>\n",
       "</table>\n",
       "<p>... (160 rows omitted)</p>"
      ],
      "text/plain": [
       "Country             | Alcoholic Beverages | Animal Products | Animal fats | Aquatic Products, Other | Cereals - Excluding Beer | Eggs   | Fish, Seafood | Fruits - Excluding Wine | Meat    | Miscellaneous | Milk - Excluding Butter | Offals | Oilcrops | Pulses | Spices | Starchy Roots | Stimulants | Sugar Crops | Sugar & Sweeteners | Treenuts | Vegetal Products | Vegetable Oils | Vegetables | Obesity | Undernourished | Confirmed | Deaths     | Recovered | Active     | Population | Unit (all except Population)\n",
       "Afghanistan         | 0                   | 21.6397         | 6.2224      | 0                       | 8.0353                   | 0.6859 | 0.0327        | 0.4246                  | 6.1244  | 0.0163        | 8.2803                  | 0.3103 | 1.0452   | 0.196  | 0.2776 | 0.049         | 0.098      | 0           | 0                  | 0.7513   | 28.3684          | 17.0831        | 0.3593     | 4.5     | 29.8           | 0.142134  | 0.00618578 | 0.123374  | 0.0125745  | 3.8928e+07 | %\n",
       "Albania             | 0                   | 32.0002         | 3.4172      | 0                       | 2.6734                   | 1.6448 | 0.1445        | 0.6418                  | 8.7428  | 0.017         | 17.7576                 | 0.2933 | 3.1622   | 0.1148 | 0      | 0.051         | 0.527      | 0           | 0                  | 0.9181   | 17.9998          | 9.2443         | 0.6503     | 22.3    | 6.2            | 2.9673    | 0.0509514  | 1.79264   | 1.12371    | 2.838e+06  | %\n",
       "Algeria             | 0                   | 14.4175         | 0.8972      | 0                       | 4.2035                   | 1.2171 | 0.2008        | 0.5772                  | 3.8961  | 0.0439        | 8.0934                  | 0.1067 | 1.1983   | 0.2698 | 0.1568 | 0.1129        | 0.2886     | 0           | 0                  | 0.8595   | 35.5857          | 27.3606        | 0.5145     | 26.6    | 3.9            | 0.244897  | 0.00655815 | 0.167572  | 0.0707667  | 4.4357e+07 | %\n",
       "Angola              | 0                   | 15.3041         | 1.313       | 0                       | 6.5545                   | 0.1539 | 1.4155        | 0.3488                  | 11.0268 | 0.0308        | 1.2309                  | 0.1539 | 3.9902   | 0.3282 | 0.0103 | 0.7078        | 0.1128     | 0           | 0                  | 0.0308   | 34.701           | 22.4638        | 0.1231     | 6.8     | 25             | 0.0616875 | 0.00146055 | 0.0568077 | 0.00341922 | 3.2522e+07 | %\n",
       "Antigua and Barbuda | 0                   | 27.7033         | 4.6686      | 0                       | 3.2153                   | 0.3872 | 1.5263        | 1.2177                  | 14.3202 | 0.0898        | 6.6607                  | 0.1347 | 1.3579   | 0.0673 | 0.3591 | 0.0449        | 1.0549     | 0           | 0                  | 0.202    | 22.2995          | 14.4436        | 0.2469     | 19.1    | nan            | 0.293878  | 0.00714286 | 0.190816  | 0.0959184  | 98000      | %\n",
       "Argentina           | 0                   | 30.3572         | 3.3076      | 0                       | 1.3316                   | 1.5706 | 0.1664        | 0.2091                  | 19.2693 | 0             | 5.8512                  | 0.1878 | 0.064    | 0.0213 | 0.0213 | 0.111         | 0.2475     | 0           | 0                  | 0.1366   | 19.6449          | 17.3147        | 0.1878     | 28.5    | 4.6            | 4.35615   | 0.108227   | 3.90519   | 0.342729   | 4.5377e+07 | %\n",
       "Armenia             | 0                   | 29.6642         | 6.2619      | 0                       | 2.5068                   | 1.6196 | 0.2218        | 0.5468                  | 10.8165 | 0.0361        | 10.4709                 | 0.2734 | 0.6602   | 0.0774 | 0.0103 | 0.0567        | 1.8002     | 0           | 0                  | 0.9542   | 20.3384          | 12.8127        | 0.8717     | 20.9    | 4.3            | 5.68122   | 0.105345   | 5.39841   | 0.17747    | 2.956e+06  | %\n",
       "Australia           | 0                   | 24.1099         | 4.603       | 0                       | 0.9908                   | 0.7017 | 0.4515        | 0.4028                  | 11.6002 | 0.052         | 6.5196                  | 0.2339 | 1.2929   | 0.026  | 0.1007 | 0.0422        | 0.7926     | 0           | 0                  | 1.6145   | 25.8901          | 20.3612        | 0.2144     | 30.4    | <2.5           | 0.112025  | 0.00352955 | 0.101289  | 0.00720665 | 2.5754e+07 | %\n",
       "Austria             | 0                   | 27.8268         | 12.8517     | 0                       | 1.2297                   | 1.2147 | 0.4259        | 0.2249                  | 8.1099  | 0             | 5.1497                  | 0.075  | 1.1367   | 0.012  | 0.102  | 0.045         | 0.4439     | 0           | 0                  | 0.8398   | 22.1762          | 17.9323        | 0.2039     | 21.9    | <2.5           | 4.73998   | 0.0896792  | 4.49687   | 0.153433   | 8.914e+06  | %\n",
       "Azerbaijan          | 0                   | 32.1198         | 7.7987      | 0                       | 5.4481                   | 2.0197 | 0.2122        | 0.594                   | 11.9993 | 0.017         | 9.9202                  | 0.1612 | 0.1867   | 0.0255 | 0.017  | 0.1697        | 1.3663     | 0           | 0                  | 2.2573   | 17.8802          | 7.1538         | 0.6534     | 19.9    | <2.5           | 2.28554   | 0.0312228  | 2.22557   | 0.0287396  | 1.0108e+07 | %\n",
       "... (160 rows omitted)"
      ]
     },
     "execution_count": 60,
     "metadata": {},
     "output_type": "execute_result"
    }
   ],
   "source": [
    "country_diets = Table.read_table('Fat_Supply_Quantity_Data.csv')\n",
    "country_diets"
   ]
  },
  {
   "cell_type": "markdown",
   "metadata": {},
   "source": [
    "In order to test how diet affected COVID death rates in each of these countries, we need to create a table with just the columns we are interested in. \n",
    "Run the code below to view a cleaned up table."
   ]
  },
  {
   "cell_type": "code",
   "execution_count": 61,
   "metadata": {},
   "outputs": [
    {
     "data": {
      "text/html": [
       "<table border=\"1\" class=\"dataframe\">\n",
       "    <thead>\n",
       "        <tr>\n",
       "            <th>Country</th> <th>Animal Products</th> <th>Confirmed</th> <th>Deaths</th> <th>Recovered</th> <th>Active</th> <th>Population</th>\n",
       "        </tr>\n",
       "    </thead>\n",
       "    <tbody>\n",
       "        <tr>\n",
       "            <td>Afghanistan        </td> <td>21.6397        </td> <td>0.142134 </td> <td>0.00618578</td> <td>0.123374 </td> <td>0.0125745 </td> <td>3.8928e+07</td>\n",
       "        </tr>\n",
       "        <tr>\n",
       "            <td>Albania            </td> <td>32.0002        </td> <td>2.9673   </td> <td>0.0509514 </td> <td>1.79264  </td> <td>1.12371   </td> <td>2.838e+06 </td>\n",
       "        </tr>\n",
       "        <tr>\n",
       "            <td>Algeria            </td> <td>14.4175        </td> <td>0.244897 </td> <td>0.00655815</td> <td>0.167572 </td> <td>0.0707667 </td> <td>4.4357e+07</td>\n",
       "        </tr>\n",
       "        <tr>\n",
       "            <td>Angola             </td> <td>15.3041        </td> <td>0.0616875</td> <td>0.00146055</td> <td>0.0568077</td> <td>0.00341922</td> <td>3.2522e+07</td>\n",
       "        </tr>\n",
       "        <tr>\n",
       "            <td>Antigua and Barbuda</td> <td>27.7033        </td> <td>0.293878 </td> <td>0.00714286</td> <td>0.190816 </td> <td>0.0959184 </td> <td>98000     </td>\n",
       "        </tr>\n",
       "        <tr>\n",
       "            <td>Argentina          </td> <td>30.3572        </td> <td>4.35615  </td> <td>0.108227  </td> <td>3.90519  </td> <td>0.342729  </td> <td>4.5377e+07</td>\n",
       "        </tr>\n",
       "        <tr>\n",
       "            <td>Armenia            </td> <td>29.6642        </td> <td>5.68122  </td> <td>0.105345  </td> <td>5.39841  </td> <td>0.17747   </td> <td>2.956e+06 </td>\n",
       "        </tr>\n",
       "        <tr>\n",
       "            <td>Australia          </td> <td>24.1099        </td> <td>0.112025 </td> <td>0.00352955</td> <td>0.101289 </td> <td>0.00720665</td> <td>2.5754e+07</td>\n",
       "        </tr>\n",
       "        <tr>\n",
       "            <td>Austria            </td> <td>27.8268        </td> <td>4.73998  </td> <td>0.0896792 </td> <td>4.49687  </td> <td>0.153433  </td> <td>8.914e+06 </td>\n",
       "        </tr>\n",
       "        <tr>\n",
       "            <td>Azerbaijan         </td> <td>32.1198        </td> <td>2.28554  </td> <td>0.0312228 </td> <td>2.22557  </td> <td>0.0287396 </td> <td>1.0108e+07</td>\n",
       "        </tr>\n",
       "    </tbody>\n",
       "</table>\n",
       "<p>... (160 rows omitted)</p>"
      ],
      "text/plain": [
       "Country             | Animal Products | Confirmed | Deaths     | Recovered | Active     | Population\n",
       "Afghanistan         | 21.6397         | 0.142134  | 0.00618578 | 0.123374  | 0.0125745  | 3.8928e+07\n",
       "Albania             | 32.0002         | 2.9673    | 0.0509514  | 1.79264   | 1.12371    | 2.838e+06\n",
       "Algeria             | 14.4175         | 0.244897  | 0.00655815 | 0.167572  | 0.0707667  | 4.4357e+07\n",
       "Angola              | 15.3041         | 0.0616875 | 0.00146055 | 0.0568077 | 0.00341922 | 3.2522e+07\n",
       "Antigua and Barbuda | 27.7033         | 0.293878  | 0.00714286 | 0.190816  | 0.0959184  | 98000\n",
       "Argentina           | 30.3572         | 4.35615   | 0.108227   | 3.90519   | 0.342729   | 4.5377e+07\n",
       "Armenia             | 29.6642         | 5.68122   | 0.105345   | 5.39841   | 0.17747    | 2.956e+06\n",
       "Australia           | 24.1099         | 0.112025  | 0.00352955 | 0.101289  | 0.00720665 | 2.5754e+07\n",
       "Austria             | 27.8268         | 4.73998   | 0.0896792  | 4.49687   | 0.153433   | 8.914e+06\n",
       "Azerbaijan          | 32.1198         | 2.28554   | 0.0312228  | 2.22557   | 0.0287396  | 1.0108e+07\n",
       "... (160 rows omitted)"
      ]
     },
     "execution_count": 61,
     "metadata": {},
     "output_type": "execute_result"
    }
   ],
   "source": [
    "cleaned_diets = country_diets.select('Country', 'Animal Products', 'Confirmed', 'Deaths', 'Recovered', 'Active', 'Population')\n",
    "cleaned_diets"
   ]
  },
  {
   "cell_type": "markdown",
   "metadata": {},
   "source": [
    "We need to look at the countries with the highest animal product consumption and the countries with the lowest. "
   ]
  },
  {
   "cell_type": "markdown",
   "metadata": {
    "deletable": false,
    "editable": false
   },
   "source": [
    "**Question 1:** Sort the cleaned_diet table by the \"Animal Products\" column in descending order. \n",
    "\n",
    "<!--\n",
    "BEGIN QUESTION\n",
    "name: q4_1\n",
    "points: 2\n",
    "manual: false\n",
    "-->"
   ]
  },
  {
   "cell_type": "code",
   "execution_count": 62,
   "metadata": {
    "scrolled": true
   },
   "outputs": [
    {
     "data": {
      "text/html": [
       "<table border=\"1\" class=\"dataframe\">\n",
       "    <thead>\n",
       "        <tr>\n",
       "            <th>Country</th> <th>Animal Products</th> <th>Confirmed</th> <th>Deaths</th> <th>Recovered</th> <th>Active</th> <th>Population</th>\n",
       "        </tr>\n",
       "    </thead>\n",
       "    <tbody>\n",
       "        <tr>\n",
       "            <td>Mongolia   </td> <td>36.9018        </td> <td>0.0601904 </td> <td>5.95061e-05</td> <td>0.0431122 </td> <td>0.0170187  </td> <td>3.361e+06 </td>\n",
       "        </tr>\n",
       "        <tr>\n",
       "            <td>Finland    </td> <td>36.725         </td> <td>0.854802  </td> <td>0.0124435  </td> <td>0.56068   </td> <td>0.281678   </td> <td>5.529e+06 </td>\n",
       "        </tr>\n",
       "        <tr>\n",
       "            <td>Denmark    </td> <td>35.4131        </td> <td>3.46322   </td> <td>0.0380168  </td> <td>3.30736   </td> <td>0.117842   </td> <td>5.829e+06 </td>\n",
       "        </tr>\n",
       "        <tr>\n",
       "            <td>Iceland    </td> <td>34.4402        </td> <td>1.63614   </td> <td>0.00788043 </td> <td>1.61929   </td> <td>0.00896739 </td> <td>368000    </td>\n",
       "        </tr>\n",
       "        <tr>\n",
       "            <td>New Zealand</td> <td>34.1264        </td> <td>0.046521  </td> <td>0.000501303</td> <td>0.0446962 </td> <td>0.00132344 </td> <td>4.987e+06 </td>\n",
       "        </tr>\n",
       "        <tr>\n",
       "            <td>Saint Lucia</td> <td>33.3454        </td> <td>0.996154  </td> <td>0.00989011 </td> <td>0.480769  </td> <td>0.505495   </td> <td>182000    </td>\n",
       "        </tr>\n",
       "        <tr>\n",
       "            <td>Vietnam    </td> <td>33.2484        </td> <td>0.00206322</td> <td>3.63791e-05</td> <td>0.00152584</td> <td>0.000500993</td> <td>9.6209e+07</td>\n",
       "        </tr>\n",
       "        <tr>\n",
       "            <td>Estonia    </td> <td>33.219         </td> <td>3.56965   </td> <td>0.03426    </td> <td>2.82855   </td> <td>0.706837   </td> <td>1.331e+06 </td>\n",
       "        </tr>\n",
       "        <tr>\n",
       "            <td>Serbia     </td> <td>33.0354        </td> <td>5.84091   </td> <td>0.0591059  </td> <td>0         </td> <td>5.7818     </td> <td>6.957e+06 </td>\n",
       "        </tr>\n",
       "        <tr>\n",
       "            <td>Montenegro </td> <td>32.7855        </td> <td>10.4082   </td> <td>0.134405   </td> <td>9.03987   </td> <td>1.23392    </td> <td>622000    </td>\n",
       "        </tr>\n",
       "    </tbody>\n",
       "</table>\n",
       "<p>... (160 rows omitted)</p>"
      ],
      "text/plain": [
       "Country     | Animal Products | Confirmed  | Deaths      | Recovered  | Active      | Population\n",
       "Mongolia    | 36.9018         | 0.0601904  | 5.95061e-05 | 0.0431122  | 0.0170187   | 3.361e+06\n",
       "Finland     | 36.725          | 0.854802   | 0.0124435   | 0.56068    | 0.281678    | 5.529e+06\n",
       "Denmark     | 35.4131         | 3.46322    | 0.0380168   | 3.30736    | 0.117842    | 5.829e+06\n",
       "Iceland     | 34.4402         | 1.63614    | 0.00788043  | 1.61929    | 0.00896739  | 368000\n",
       "New Zealand | 34.1264         | 0.046521   | 0.000501303 | 0.0446962  | 0.00132344  | 4.987e+06\n",
       "Saint Lucia | 33.3454         | 0.996154   | 0.00989011  | 0.480769   | 0.505495    | 182000\n",
       "Vietnam     | 33.2484         | 0.00206322 | 3.63791e-05 | 0.00152584 | 0.000500993 | 9.6209e+07\n",
       "Estonia     | 33.219          | 3.56965    | 0.03426     | 2.82855    | 0.706837    | 1.331e+06\n",
       "Serbia      | 33.0354         | 5.84091    | 0.0591059   | 0          | 5.7818      | 6.957e+06\n",
       "Montenegro  | 32.7855         | 10.4082    | 0.134405    | 9.03987    | 1.23392     | 622000\n",
       "... (160 rows omitted)"
      ]
     },
     "execution_count": 62,
     "metadata": {},
     "output_type": "execute_result"
    }
   ],
   "source": [
    "sorted_table = cleaned_diets.sort(\"Animal Products\",descending = True)\n",
    "sorted_table"
   ]
  },
  {
   "cell_type": "code",
   "execution_count": 63,
   "metadata": {
    "deletable": false,
    "editable": false
   },
   "outputs": [
    {
     "data": {
      "text/html": [
       "<p><strong><pre style='display: inline;'>q4_1</pre></strong> passed!</p>"
      ],
      "text/plain": [
       "q4_1 results: All test cases passed!"
      ]
     },
     "execution_count": 63,
     "metadata": {},
     "output_type": "execute_result"
    }
   ],
   "source": [
    "grader.check(\"q4_1\")"
   ]
  },
  {
   "cell_type": "markdown",
   "metadata": {},
   "source": [
    "## Running a hypothesis test"
   ]
  },
  {
   "cell_type": "markdown",
   "metadata": {},
   "source": [
    "Using our sorted table, we want to explore how the death rate changed amongst different countries based on how much of their fat intake was from animal products."
   ]
  },
  {
   "cell_type": "markdown",
   "metadata": {
    "deletable": false,
    "editable": false
   },
   "source": [
    "<!-- BEGIN QUESTION -->\n",
    "\n",
    "**Question 2.1:** Set up a null hypothesis that we will use to answer whether or not having a larger percentage of fat intake from animal products causes different rates of death among Covid patients. Assign your null hypothesis to `null_hypothesis`.\n",
    "\n",
    "<!--\n",
    "BEGIN QUESTION\n",
    "name: q4_2_1\n",
    "points: 2\n",
    "manual: true\n",
    "-->"
   ]
  },
  {
   "cell_type": "code",
   "execution_count": 64,
   "metadata": {},
   "outputs": [],
   "source": [
    "null_hypothesis = \"Fat intake from animal product does not cause different rates of death among Covid patients\""
   ]
  },
  {
   "cell_type": "markdown",
   "metadata": {
    "deletable": false,
    "editable": false
   },
   "source": [
    "<!-- END QUESTION -->\n",
    "\n",
    "<!-- BEGIN QUESTION -->\n",
    "\n",
    "**Question 2.2:** Now create an alternative hypothesis. Assign your alternative hypothesis to `alt_hypothesis`.\n",
    "\n",
    "<!--\n",
    "BEGIN QUESTION\n",
    "name: q4_2_2\n",
    "points: 2\n",
    "manual: true\n",
    "-->"
   ]
  },
  {
   "cell_type": "code",
   "execution_count": 65,
   "metadata": {},
   "outputs": [],
   "source": [
    "alt_hypothesis = \"Fat intake from animal product causes higher rates of death among Covid patients\""
   ]
  },
  {
   "cell_type": "markdown",
   "metadata": {
    "deletable": false,
    "editable": false
   },
   "source": [
    "<!-- END QUESTION -->\n",
    "\n",
    "<!-- BEGIN QUESTION -->\n",
    "\n",
    "**Question 3:** Explain why using the difference in **number** of people who died from the country with the highest percentage of animal fat in their diet and the country with the lowest percentage of animal fat in their diet would not work as a test statistic.\n",
    "\n",
    "<!--\n",
    "BEGIN QUESTION\n",
    "name: q4_3\n",
    "points: 2\n",
    "manual: true\n",
    "-->"
   ]
  },
  {
   "cell_type": "markdown",
   "metadata": {},
   "source": [
    "Since the population of countries can vary and this could lead to inconsistency in the data "
   ]
  },
  {
   "cell_type": "markdown",
   "metadata": {
    "deletable": false,
    "editable": false
   },
   "source": [
    "<!-- END QUESTION -->\n",
    "\n",
    "Instead we are going to use the difference in the average hazard rate from the top 10 countries and the bottom 10 countries as our test statistic. The hazard rate is the proportion of people who died in a specific group out of the total number who participated in the study. Now for our data, the proportion of people who died would be the number of people who died from Covid out of the total number of confirmed cases of Covid. \n",
    "\n",
    "**Question 4:** Create two new tables, one with the data from the top 10 countries and one with the bottom 10 countries.\n",
    "\n",
    "**Question 4.1:** First the top 10 countries.\n",
    "\n",
    "<!--\n",
    "BEGIN QUESTION\n",
    "name: q4_4_1\n",
    "points: 2\n",
    "manual: false\n",
    "-->"
   ]
  },
  {
   "cell_type": "code",
   "execution_count": 66,
   "metadata": {},
   "outputs": [
    {
     "data": {
      "text/html": [
       "<table border=\"1\" class=\"dataframe\">\n",
       "    <thead>\n",
       "        <tr>\n",
       "            <th>Country</th> <th>Animal Products</th> <th>Confirmed</th> <th>Deaths</th> <th>Recovered</th> <th>Active</th> <th>Population</th>\n",
       "        </tr>\n",
       "    </thead>\n",
       "    <tbody>\n",
       "        <tr>\n",
       "            <td>Mongolia   </td> <td>36.9018        </td> <td>0.0601904 </td> <td>5.95061e-05</td> <td>0.0431122 </td> <td>0.0170187  </td> <td>3.361e+06 </td>\n",
       "        </tr>\n",
       "        <tr>\n",
       "            <td>Finland    </td> <td>36.725         </td> <td>0.854802  </td> <td>0.0124435  </td> <td>0.56068   </td> <td>0.281678   </td> <td>5.529e+06 </td>\n",
       "        </tr>\n",
       "        <tr>\n",
       "            <td>Denmark    </td> <td>35.4131        </td> <td>3.46322   </td> <td>0.0380168  </td> <td>3.30736   </td> <td>0.117842   </td> <td>5.829e+06 </td>\n",
       "        </tr>\n",
       "        <tr>\n",
       "            <td>Iceland    </td> <td>34.4402        </td> <td>1.63614   </td> <td>0.00788043 </td> <td>1.61929   </td> <td>0.00896739 </td> <td>368000    </td>\n",
       "        </tr>\n",
       "        <tr>\n",
       "            <td>New Zealand</td> <td>34.1264        </td> <td>0.046521  </td> <td>0.000501303</td> <td>0.0446962 </td> <td>0.00132344 </td> <td>4.987e+06 </td>\n",
       "        </tr>\n",
       "        <tr>\n",
       "            <td>Saint Lucia</td> <td>33.3454        </td> <td>0.996154  </td> <td>0.00989011 </td> <td>0.480769  </td> <td>0.505495   </td> <td>182000    </td>\n",
       "        </tr>\n",
       "        <tr>\n",
       "            <td>Vietnam    </td> <td>33.2484        </td> <td>0.00206322</td> <td>3.63791e-05</td> <td>0.00152584</td> <td>0.000500993</td> <td>9.6209e+07</td>\n",
       "        </tr>\n",
       "        <tr>\n",
       "            <td>Estonia    </td> <td>33.219         </td> <td>3.56965   </td> <td>0.03426    </td> <td>2.82855   </td> <td>0.706837   </td> <td>1.331e+06 </td>\n",
       "        </tr>\n",
       "        <tr>\n",
       "            <td>Serbia     </td> <td>33.0354        </td> <td>5.84091   </td> <td>0.0591059  </td> <td>0         </td> <td>5.7818     </td> <td>6.957e+06 </td>\n",
       "        </tr>\n",
       "        <tr>\n",
       "            <td>Montenegro </td> <td>32.7855        </td> <td>10.4082   </td> <td>0.134405   </td> <td>9.03987   </td> <td>1.23392    </td> <td>622000    </td>\n",
       "        </tr>\n",
       "    </tbody>\n",
       "</table>"
      ],
      "text/plain": [
       "Country     | Animal Products | Confirmed  | Deaths      | Recovered  | Active      | Population\n",
       "Mongolia    | 36.9018         | 0.0601904  | 5.95061e-05 | 0.0431122  | 0.0170187   | 3.361e+06\n",
       "Finland     | 36.725          | 0.854802   | 0.0124435   | 0.56068    | 0.281678    | 5.529e+06\n",
       "Denmark     | 35.4131         | 3.46322    | 0.0380168   | 3.30736    | 0.117842    | 5.829e+06\n",
       "Iceland     | 34.4402         | 1.63614    | 0.00788043  | 1.61929    | 0.00896739  | 368000\n",
       "New Zealand | 34.1264         | 0.046521   | 0.000501303 | 0.0446962  | 0.00132344  | 4.987e+06\n",
       "Saint Lucia | 33.3454         | 0.996154   | 0.00989011  | 0.480769   | 0.505495    | 182000\n",
       "Vietnam     | 33.2484         | 0.00206322 | 3.63791e-05 | 0.00152584 | 0.000500993 | 9.6209e+07\n",
       "Estonia     | 33.219          | 3.56965    | 0.03426     | 2.82855    | 0.706837    | 1.331e+06\n",
       "Serbia      | 33.0354         | 5.84091    | 0.0591059   | 0          | 5.7818      | 6.957e+06\n",
       "Montenegro  | 32.7855         | 10.4082    | 0.134405    | 9.03987    | 1.23392     | 622000"
      ]
     },
     "execution_count": 66,
     "metadata": {},
     "output_type": "execute_result"
    }
   ],
   "source": [
    "top_10 = sorted_table.take(0,1,2,3,4,5,6,7,8,9)\n",
    "top_10"
   ]
  },
  {
   "cell_type": "code",
   "execution_count": 67,
   "metadata": {
    "deletable": false,
    "editable": false
   },
   "outputs": [
    {
     "data": {
      "text/html": [
       "<p><strong><pre style='display: inline;'>q4_4_1</pre></strong> passed!</p>"
      ],
      "text/plain": [
       "q4_4_1 results: All test cases passed!"
      ]
     },
     "execution_count": 67,
     "metadata": {},
     "output_type": "execute_result"
    }
   ],
   "source": [
    "grader.check(\"q4_4_1\")"
   ]
  },
  {
   "cell_type": "markdown",
   "metadata": {
    "deletable": false,
    "editable": false
   },
   "source": [
    "**Question 4.2:** And now the bottom 10 countries.\n",
    "\n",
    "<!--\n",
    "BEGIN QUESTION\n",
    "name: q4_4_2\n",
    "points: 2\n",
    "manual: false\n",
    "-->"
   ]
  },
  {
   "cell_type": "code",
   "execution_count": 68,
   "metadata": {},
   "outputs": [
    {
     "data": {
      "text/html": [
       "<table border=\"1\" class=\"dataframe\">\n",
       "    <thead>\n",
       "        <tr>\n",
       "            <th>Country</th> <th>Animal Products</th> <th>Confirmed</th> <th>Deaths</th> <th>Recovered</th> <th>Active</th> <th>Population</th>\n",
       "        </tr>\n",
       "    </thead>\n",
       "    <tbody>\n",
       "        <tr>\n",
       "            <td>Burkina Faso </td> <td>7.2367         </td> <td>0.05371  </td> <td>0.000641056</td> <td>0.0480314</td> <td>0.00503755</td> <td>2.0903e+07</td>\n",
       "        </tr>\n",
       "        <tr>\n",
       "            <td>Cameroon     </td> <td>6.3264         </td> <td>0.118031 </td> <td>0.00178209 </td> <td>0.110914 </td> <td>0.00533499</td> <td>2.6598e+07</td>\n",
       "        </tr>\n",
       "        <tr>\n",
       "            <td>Benin        </td> <td>6.1742         </td> <td>0.0343435</td> <td>0.000450487</td> <td>0.0291834</td> <td>0.00470964</td> <td>1.2209e+07</td>\n",
       "        </tr>\n",
       "        <tr>\n",
       "            <td>Senegal      </td> <td>6.104          </td> <td>0.170145 </td> <td>0.00403129 </td> <td>0.139107 </td> <td>0.0270067 </td> <td>1.6744e+07</td>\n",
       "        </tr>\n",
       "        <tr>\n",
       "            <td>Guinea       </td> <td>6.0747         </td> <td>0.11676  </td> <td>0.00066879 </td> <td>0.114013 </td> <td>0.00207803</td> <td>1.256e+07 </td>\n",
       "        </tr>\n",
       "        <tr>\n",
       "            <td>Gambia       </td> <td>6.0418         </td> <td>0.1753   </td> <td>0.00554406 </td> <td>0.160778 </td> <td>0.00897807</td> <td>2.417e+06 </td>\n",
       "        </tr>\n",
       "        <tr>\n",
       "            <td>Sierra Leone </td> <td>5.9931         </td> <td>0.0472859</td> <td>0.000990347</td> <td>0.0307384</td> <td>0.0155572 </td> <td>7.977e+06 </td>\n",
       "        </tr>\n",
       "        <tr>\n",
       "            <td>Cote d'Ivoire</td> <td>5.3253         </td> <td>0.112959 </td> <td>0.000618911</td> <td>0.106105 </td> <td>0.00623496</td> <td>2.6175e+07</td>\n",
       "        </tr>\n",
       "        <tr>\n",
       "            <td>Togo         </td> <td>5.3063         </td> <td>0.0656601</td> <td>0.000954222</td> <td>0.0547771</td> <td>0.00992874</td> <td>8.279e+06 </td>\n",
       "        </tr>\n",
       "        <tr>\n",
       "            <td>Nigeria      </td> <td>5.0182         </td> <td>0.0675473</td> <td>0.000798972</td> <td>0.0546022</td> <td>0.0121461 </td> <td>2.0614e+08</td>\n",
       "        </tr>\n",
       "    </tbody>\n",
       "</table>"
      ],
      "text/plain": [
       "Country       | Animal Products | Confirmed | Deaths      | Recovered | Active     | Population\n",
       "Burkina Faso  | 7.2367          | 0.05371   | 0.000641056 | 0.0480314 | 0.00503755 | 2.0903e+07\n",
       "Cameroon      | 6.3264          | 0.118031  | 0.00178209  | 0.110914  | 0.00533499 | 2.6598e+07\n",
       "Benin         | 6.1742          | 0.0343435 | 0.000450487 | 0.0291834 | 0.00470964 | 1.2209e+07\n",
       "Senegal       | 6.104           | 0.170145  | 0.00403129  | 0.139107  | 0.0270067  | 1.6744e+07\n",
       "Guinea        | 6.0747          | 0.11676   | 0.00066879  | 0.114013  | 0.00207803 | 1.256e+07\n",
       "Gambia        | 6.0418          | 0.1753    | 0.00554406  | 0.160778  | 0.00897807 | 2.417e+06\n",
       "Sierra Leone  | 5.9931          | 0.0472859 | 0.000990347 | 0.0307384 | 0.0155572  | 7.977e+06\n",
       "Cote d'Ivoire | 5.3253          | 0.112959  | 0.000618911 | 0.106105  | 0.00623496 | 2.6175e+07\n",
       "Togo          | 5.3063          | 0.0656601 | 0.000954222 | 0.0547771 | 0.00992874 | 8.279e+06\n",
       "Nigeria       | 5.0182          | 0.0675473 | 0.000798972 | 0.0546022 | 0.0121461  | 2.0614e+08"
      ]
     },
     "execution_count": 68,
     "metadata": {},
     "output_type": "execute_result"
    }
   ],
   "source": [
    "\n",
    "bottom_10 = sorted_table.take(160,161,162,163,164,165,166,167,168,169)\n",
    "bottom_10"
   ]
  },
  {
   "cell_type": "code",
   "execution_count": 69,
   "metadata": {
    "deletable": false,
    "editable": false
   },
   "outputs": [
    {
     "data": {
      "text/html": [
       "<p><strong><pre style='display: inline;'>q4_4_2</pre></strong> passed!</p>"
      ],
      "text/plain": [
       "q4_4_2 results: All test cases passed!"
      ]
     },
     "execution_count": 69,
     "metadata": {},
     "output_type": "execute_result"
    }
   ],
   "source": [
    "grader.check(\"q4_4_2\")"
   ]
  },
  {
   "cell_type": "markdown",
   "metadata": {
    "deletable": false,
    "editable": false
   },
   "source": [
    "**Question 5:** Write a function that takes a table like top_10 or bottom_10 and determines the hazard rate of a country in the table.\n",
    "\n",
    "<!--\n",
    "BEGIN QUESTION\n",
    "name: q4_5\n",
    "points: 2\n",
    "manual: false\n",
    "-->"
   ]
  },
  {
   "cell_type": "code",
   "execution_count": 70,
   "metadata": {},
   "outputs": [
    {
     "data": {
      "text/plain": [
       "array([ 0.01455715])"
      ]
     },
     "execution_count": 70,
     "metadata": {},
     "output_type": "execute_result"
    }
   ],
   "source": [
    "#The hazard rate is the proportion of people who died in a specific group out of the total number who participated in the study. Now for our data, the proportion of people who died would be the number of people who died from Covid out of the total number of confirmed cases of Covid.\n",
    "def hazard_rate(tbl, country):\n",
    "    hazard_con = tbl.where(\"Country\", country)\n",
    "    hazard_rate = np.abs(hazard_con.column(\"Deaths\")/hazard_con.column(\"Confirmed\"))\n",
    "    return hazard_rate\n",
    "hazard_rate(top_10, 'Finland')"
   ]
  },
  {
   "cell_type": "code",
   "execution_count": 71,
   "metadata": {
    "deletable": false,
    "editable": false
   },
   "outputs": [
    {
     "data": {
      "text/html": [
       "<p><strong><pre style='display: inline;'>q4_5</pre></strong> passed!</p>"
      ],
      "text/plain": [
       "q4_5 results: All test cases passed!"
      ]
     },
     "execution_count": 71,
     "metadata": {},
     "output_type": "execute_result"
    }
   ],
   "source": [
    "grader.check(\"q4_5\")"
   ]
  },
  {
   "cell_type": "markdown",
   "metadata": {
    "deletable": false,
    "editable": false
   },
   "source": [
    "**Question 6:** Using the hazard_rate function, write a function to determine the average hazard rate for top_10 and for bottom_10. Write another function that computes the difference in hazard rates.\n",
    "\n",
    "<!--\n",
    "BEGIN QUESTION\n",
    "name: q4_6\n",
    "points: 2\n",
    "manual: false\n",
    "-->"
   ]
  },
  {
   "cell_type": "code",
   "execution_count": 72,
   "metadata": {},
   "outputs": [
    {
     "data": {
      "text/plain": [
       "0.0051676184438344056"
      ]
     },
     "execution_count": 72,
     "metadata": {},
     "output_type": "execute_result"
    }
   ],
   "source": [
    "def avg_hazard_rate(tbl):\n",
    "    hazard_rates = make_array()\n",
    "    for country in tbl.column(\"Country\"): \n",
    "        rate = hazard_rate(tbl, country)\n",
    "        hazard_rates = np.append(hazard_rates, rate)\n",
    "    return sum(hazard_rates)/len(hazard_rates)\n",
    "\n",
    "def compute_hazard_difference(tbl):\n",
    "    top_10 = tbl.sort(\"Animal Products\", descending = True).take(np.arange(0,10))\n",
    "    bottom_10 = tbl.sort(\"Animal Products\", descending = True).take(np.arange(tbl.num_rows - 10, tbl.num_rows))\n",
    "    return abs(avg_hazard_rate(top_10)-avg_hazard_rate(bottom_10))\n",
    "\n",
    "k = compute_hazard_difference(cleaned_diets)\n",
    "k"
   ]
  },
  {
   "cell_type": "code",
   "execution_count": 73,
   "metadata": {
    "deletable": false,
    "editable": false
   },
   "outputs": [
    {
     "data": {
      "text/html": [
       "<p><strong><pre style='display: inline;'>q4_6</pre></strong> passed!</p>"
      ],
      "text/plain": [
       "q4_6 results: All test cases passed!"
      ]
     },
     "execution_count": 73,
     "metadata": {},
     "output_type": "execute_result"
    }
   ],
   "source": [
    "grader.check(\"q4_6\")"
   ]
  },
  {
   "cell_type": "markdown",
   "metadata": {
    "deletable": false,
    "editable": false
   },
   "source": [
    "**Question 7:** Now we will run a hypothesis test. Define a function called complete_test which takes in a table like cleaned_diets and simulates samples and calculates the rate differences for these samples under the null hypothesis 100 times. It then should return a P-value. \n",
    "\n",
    "<!--\n",
    "BEGIN QUESTION\n",
    "name: q4_7\n",
    "points: 2\n",
    "manual: false\n",
    "-->"
   ]
  },
  {
   "cell_type": "code",
   "execution_count": 74,
   "metadata": {},
   "outputs": [
    {
     "data": {
      "text/plain": [
       "0.050000000000000003"
      ]
     },
     "execution_count": 74,
     "metadata": {},
     "output_type": "execute_result"
    }
   ],
   "source": [
    "def compute_death_statistic(tbl): \n",
    "    top_10 = tbl.take(np.arange(0,10))\n",
    "    bottom_10 = tbl.take(np.arange(tbl.num_rows - 10, tbl.num_rows)) \n",
    "    calculate_hazard = abs(avg_hazard_rate(top_10)-avg_hazard_rate(bottom_10))\n",
    "    return calculate_hazard\n",
    "def simulate_null(tbl):\n",
    "    shuffled_table = tbl.sample(with_replacement = False)\n",
    "    return compute_death_statistic(shuffled_table)\n",
    "def complete_test(t):\n",
    "    observed = (compute_death_statistic(t)) \n",
    "    test = make_array() \n",
    "    for i in np.arange(100): \n",
    "        new_t = simulate_null(t)\n",
    "        test = np.append(test, new_t)\n",
    "        p_value = np.average(observed <= test)\n",
    "    return p_value\n",
    "our_p_value = complete_test(cleaned_diets)\n",
    "our_p_value"
   ]
  },
  {
   "cell_type": "code",
   "execution_count": 75,
   "metadata": {
    "deletable": false,
    "editable": false
   },
   "outputs": [
    {
     "data": {
      "text/html": [
       "<p><strong><pre style='display: inline;'>q4_7</pre></strong> passed!</p>"
      ],
      "text/plain": [
       "q4_7 results: All test cases passed!"
      ]
     },
     "execution_count": 75,
     "metadata": {},
     "output_type": "execute_result"
    }
   ],
   "source": [
    "grader.check(\"q4_7\")"
   ]
  },
  {
   "cell_type": "markdown",
   "metadata": {
    "deletable": false,
    "editable": false
   },
   "source": [
    "**Question 8:** Based on the P-value above, can we conclude that the amount of animal product consumption causes a difference in Covid death rates? Assume a normal p-value cutoff of 0.05. Set reject_null to True if we reject the null hypothesis and False if we fail to reject the null hypothesis.\n",
    "\n",
    "<!--\n",
    "BEGIN QUESTION\n",
    "name: q4_8\n",
    "points: 2\n",
    "manual: false\n",
    "-->"
   ]
  },
  {
   "cell_type": "code",
   "execution_count": 76,
   "metadata": {},
   "outputs": [
    {
     "data": {
      "text/plain": [
       "True"
      ]
     },
     "execution_count": 76,
     "metadata": {},
     "output_type": "execute_result"
    }
   ],
   "source": [
    "reject_null = our_p_value <= 0.05 \n",
    "reject_null"
   ]
  },
  {
   "cell_type": "code",
   "execution_count": 77,
   "metadata": {
    "deletable": false,
    "editable": false,
    "scrolled": true
   },
   "outputs": [
    {
     "data": {
      "text/html": [
       "<p><strong><pre style='display: inline;'>q4_8</pre></strong> passed!</p>"
      ],
      "text/plain": [
       "q4_8 results: All test cases passed!"
      ]
     },
     "execution_count": 77,
     "metadata": {},
     "output_type": "execute_result"
    }
   ],
   "source": [
    "grader.check(\"q4_8\")"
   ]
  },
  {
   "cell_type": "markdown",
   "metadata": {},
   "source": [
    "Congratulations! You have completed your own large scale case study into cause and effect surrounding one of the world's deadliest killers: cardiovascular disease. Your investigation has taken you through two important data sets and across decades of medical research.\n",
    " "
   ]
  },
  {
   "cell_type": "markdown",
   "metadata": {
    "deletable": false,
    "editable": false
   },
   "source": [
    "---\n",
    "\n",
    "To double-check your work, the cell below will rerun all of the autograder tests."
   ]
  },
  {
   "cell_type": "code",
   "execution_count": 78,
   "metadata": {
    "deletable": false,
    "editable": false
   },
   "outputs": [
    {
     "data": {
      "text/plain": [
       "q1_1 results: All test cases passed!\n",
       "\n",
       "q1_3 results: All test cases passed!\n",
       "\n",
       "q2_1_1 results: All test cases passed!\n",
       "\n",
       "q2_1_2 results: All test cases passed!\n",
       "\n",
       "q2_1_3 results: All test cases passed!\n",
       "\n",
       "q2_1_6 results: All test cases passed!\n",
       "\n",
       "q2_2_1 results: All test cases passed!\n",
       "\n",
       "q2_2_3 results: All test cases passed!\n",
       "\n",
       "q2_2_4 results: All test cases passed!\n",
       "\n",
       "q2_2_5 results: All test cases passed!\n",
       "\n",
       "q2_2_7 results: All test cases passed!\n",
       "\n",
       "q3_1_1 results: All test cases passed!\n",
       "\n",
       "q3_1_2 results: All test cases passed!\n",
       "\n",
       "q3_1_3 results: All test cases passed!\n",
       "\n",
       "q3_1_4 results: All test cases passed!\n",
       "\n",
       "q3_1_5 results: All test cases passed!\n",
       "\n",
       "q3_1_6 results: All test cases passed!\n",
       "\n",
       "q3_1_7 results: All test cases passed!\n",
       "\n",
       "q3_2_1 results: All test cases passed!\n",
       "\n",
       "q3_2_2 results: All test cases passed!\n",
       "\n",
       "q3_2_3 results: All test cases passed!\n",
       "\n",
       "q3_2_4 results: All test cases passed!\n",
       "\n",
       "q4_1 results: All test cases passed!\n",
       "\n",
       "q4_4_1 results: All test cases passed!\n",
       "\n",
       "q4_4_2 results: All test cases passed!\n",
       "\n",
       "q4_5 results: All test cases passed!\n",
       "\n",
       "q4_6 results: All test cases passed!\n",
       "\n",
       "q4_7 results: All test cases passed!\n",
       "\n",
       "q4_8 results: All test cases passed!"
      ]
     },
     "execution_count": 78,
     "metadata": {},
     "output_type": "execute_result"
    }
   ],
   "source": [
    "grader.check_all()"
   ]
  },
  {
   "cell_type": "code",
   "execution_count": null,
   "metadata": {},
   "outputs": [],
   "source": []
  },
  {
   "cell_type": "code",
   "execution_count": null,
   "metadata": {},
   "outputs": [],
   "source": []
  },
  {
   "cell_type": "code",
   "execution_count": null,
   "metadata": {},
   "outputs": [],
   "source": []
  }
 ],
 "metadata": {
  "celltoolbar": "Edit Metadata",
  "kernelspec": {
   "display_name": "Python 3",
   "language": "python",
   "name": "python3"
  },
  "language_info": {
   "codemirror_mode": {
    "name": "ipython",
    "version": 3
   },
   "file_extension": ".py",
   "mimetype": "text/x-python",
   "name": "python",
   "nbconvert_exporter": "python",
   "pygments_lexer": "ipython3",
   "version": "3.8.10"
  },
  "vscode": {
   "interpreter": {
    "hash": "e7370f93d1d0cde622a1f8e1c04877d8463912d04d973331ad4851f04de6915a"
   }
  }
 },
 "nbformat": 4,
 "nbformat_minor": 4
}
